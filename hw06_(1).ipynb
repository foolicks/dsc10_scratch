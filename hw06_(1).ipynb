{
  "cells": [
    {
      "cell_type": "markdown",
      "metadata": {
        "id": "xpkE-YyGciZn"
      },
      "source": [
        "# Homework 6: Hypothesis Testing and Permutation Testing\n",
        "\n",
        "## Due Tuesday, May 28th at 11:59PM\n",
        "\n",
        "Welcome to Homework 6, the last homework of the quarter! This homework covers hypothesis testing ([CIT 11](https://inferentialthinking.com/chapters/11/Testing_Hypotheses.html)) and permutation testing ([CIT 12](https://inferentialthinking.com/chapters/12/Comparing_Two_Samples.html))."
      ]
    },
    {
      "cell_type": "markdown",
      "metadata": {
        "id": "iMgxqwZwciZs"
      },
      "source": [
        "### Instructions\n",
        "\n",
        "You are given six slip days throughout the quarter to extend deadlines. See the syllabus for more details. With the exception of using slip days, late work will not be accepted unless you have made special arrangements with your instructor.\n",
        "\n",
        "**Important**: For homeworks, the `otter` tests don't usually tell you that your answer is correct. More often, they help catch careless mistakes. It's up to you to ensure that your answer is correct. If you're not sure, ask someone (not for the answer, but for some guidance about your approach). These are great questions for office hours (see the schedule on the [Calendar](https://dsc10.com/calendar)) or Ed. Directly sharing answers is not okay, but discussing problems with the course staff or with other students is encouraged."
      ]
    },
    {
      "cell_type": "code",
      "execution_count": null,
      "metadata": {
        "id": "bzd4XLKxciZt"
      },
      "outputs": [],
      "source": [
        "# Please don't change this cell, but do make sure to run it\n",
        "import babypandas as bpd\n",
        "import numpy as np\n",
        "\n",
        "import matplotlib.pyplot as plt\n",
        "plt.style.use('ggplot')\n",
        "\n",
        "# import otter\n",
        "# grader = otter.Notebook()\n",
        "\n",
        "from IPython.display import IFrame\n",
        "def show_clt_slides():\n",
        "    src = 'https://docs.google.com/presentation/d/e/2PACX-1vTcJd3U1H1KoXqBFcWGKFUPjZbeW4oiNZZLCFY8jqvSDsl4L1rRTg7980nPs1TGCAecYKUZxH5MZIBh/embed?start=false&loop=false&delayms=3000&rm=minimal'\n",
        "    width = 700\n",
        "    height = 370\n",
        "    display(IFrame(src, width, height))"
      ]
    },
    {
      "cell_type": "markdown",
      "metadata": {
        "id": "ZeahO-8lciZv"
      },
      "source": [
        "## 1. Was it by Random Chansey? 🎲\n",
        "\n",
        "<img src='images/chansey.png' width='250'>"
      ]
    },
    {
      "cell_type": "code",
      "source": [
        "!pip install babypandas"
      ],
      "metadata": {
        "colab": {
          "base_uri": "https://localhost:8080/"
        },
        "id": "jlcdCHs_f13f",
        "outputId": "959399eb-217d-4943-c9ac-e9fb130cbf1d"
      },
      "execution_count": null,
      "outputs": [
        {
          "output_type": "stream",
          "name": "stdout",
          "text": [
            "Collecting babypandas\n",
            "  Downloading babypandas-0.1.9-py3-none-any.whl (15 kB)\n",
            "Collecting pandas<=1.5.3,>=0.24 (from babypandas)\n",
            "  Downloading pandas-1.5.3-cp310-cp310-manylinux_2_17_x86_64.manylinux2014_x86_64.whl (12.1 MB)\n",
            "\u001b[2K     \u001b[90m━━━━━━━━━━━━━━━━━━━━━━━━━━━━━━━━━━━━━━━━\u001b[0m \u001b[32m12.1/12.1 MB\u001b[0m \u001b[31m43.3 MB/s\u001b[0m eta \u001b[36m0:00:00\u001b[0m\n",
            "\u001b[?25hRequirement already satisfied: numpy in /usr/local/lib/python3.10/dist-packages (from babypandas) (1.25.2)\n",
            "Requirement already satisfied: python-dateutil>=2.8.1 in /usr/local/lib/python3.10/dist-packages (from pandas<=1.5.3,>=0.24->babypandas) (2.8.2)\n",
            "Requirement already satisfied: pytz>=2020.1 in /usr/local/lib/python3.10/dist-packages (from pandas<=1.5.3,>=0.24->babypandas) (2023.4)\n",
            "Requirement already satisfied: six>=1.5 in /usr/local/lib/python3.10/dist-packages (from python-dateutil>=2.8.1->pandas<=1.5.3,>=0.24->babypandas) (1.16.0)\n",
            "Installing collected packages: pandas, babypandas\n",
            "  Attempting uninstall: pandas\n",
            "    Found existing installation: pandas 2.0.3\n",
            "    Uninstalling pandas-2.0.3:\n",
            "      Successfully uninstalled pandas-2.0.3\n",
            "\u001b[31mERROR: pip's dependency resolver does not currently take into account all the packages that are installed. This behaviour is the source of the following dependency conflicts.\n",
            "cudf-cu12 24.4.1 requires pandas<2.2.2dev0,>=2.0, but you have pandas 1.5.3 which is incompatible.\n",
            "google-colab 1.0.0 requires pandas==2.0.3, but you have pandas 1.5.3 which is incompatible.\u001b[0m\u001b[31m\n",
            "\u001b[0mSuccessfully installed babypandas-0.1.9 pandas-1.5.3\n"
          ]
        }
      ]
    },
    {
      "cell_type": "markdown",
      "metadata": {
        "id": "_JjLVoOOciZw"
      },
      "source": [
        "You recently decided to buy the video game *Pokémon Yellow* from someone on Ebay. The seller tells you that they've modified the game so that the probabilities of encountering certain Pokémon in certain locations have been altered. However, the seller doesn't tell you which specific locations have had their probability models changed and what they've been changed to.\n",
        "\n",
        "As you are playing *Pokémon Yellow*, you arrive at the Safari Zone, one of the most iconic locations in the game. You're curious as to your chances of encountering your favorite Pokémon, Chansey, in this location. You go onto [Bulbapedia](https://bulbapedia.bulbagarden.net/wiki/Kanto_Safari_Zone#Area_1) to find the probability model for this location, and you discover that for each Pokémon encounter in the Safari Zone, there is a 4% chance of encountering Chansey.\n",
        "\n",
        "After a few hours of gameplay in the Safari Zone, you have encountered Chansey **48 times out of 821 total Pokémon encounters**, which is almost 6% of the time! You start to suspect that the Safari Zone may have been one of the locations in which the previous owner of the game changed the probability model.\n",
        "\n",
        "To test this, you decide to run a hypothesis test with the following hypotheses:\n",
        "\n",
        "**Null Hypothesis**: In your copy of *Pokémon Yellow*, the probability of encountering Chansey at each Pokémon encounter in the Safari Zone is 4%.\n",
        "\n",
        "**Alternative Hypothesis**: In your copy of *Pokémon Yellow*, the probability of encountering Chansey at each Pokémon encounter in the Safari Zone is greater than 4%."
      ]
    },
    {
      "cell_type": "markdown",
      "metadata": {
        "id": "rPQeFXUqciZx"
      },
      "source": [
        "**Question 1.1.** Complete the implementation of the function `one_simulation`, which has no arguments. It should randomly generate 821 Pokémon encounters in the Safari Zone and return the **proportion** of encountered Pokémon that were Chansey.\n",
        "\n",
        "***Hint:*** Use `np.random.multinomial`. You don't need a `for`-loop."
      ]
    },
    {
      "cell_type": "raw",
      "metadata": {
        "id": "sZGfRhArciZx"
      },
      "source": [
        "np.random.multinomial?"
      ]
    },
    {
      "cell_type": "code",
      "execution_count": null,
      "metadata": {
        "id": "JwCrep4nciZy",
        "outputId": "f276ff8e-b131-48c3-8175-e46f73e401df"
      },
      "outputs": [
        {
          "data": {
            "text/plain": [
              "0.031668696711327646"
            ]
          },
          "execution_count": 24,
          "metadata": {},
          "output_type": "execute_result"
        }
      ],
      "source": [
        "def one_simulation():\n",
        "    return (np.random.multinomial(821,[.04,.96]) / 821)[0]\n",
        "\n",
        "one_simulation()"
      ]
    },
    {
      "cell_type": "code",
      "execution_count": null,
      "metadata": {
        "deletable": false,
        "editable": false,
        "id": "rbD-Mwq1ciZ0",
        "outputId": "6cde44cd-f650-40b4-985e-1290a53a02ee"
      },
      "outputs": [
        {
          "data": {
            "text/html": [
              "<p><strong><pre style='display: inline;'>q1_1</pre></strong> passed!</p>"
            ],
            "text/plain": [
              "q1_1 results: All test cases passed!"
            ]
          },
          "execution_count": 25,
          "metadata": {},
          "output_type": "execute_result"
        }
      ],
      "source": [
        "grader.check(\"q1_1\")"
      ]
    },
    {
      "cell_type": "markdown",
      "metadata": {
        "id": "MA-7e7t7ciZ3"
      },
      "source": [
        "**Question 1.2.** The test statistic for our hypothesis test will be the difference between the proportion of Chansey encounters in a given sample of 821 Safari Zone encounters and the expected proportion of Chansey encounters, i.e.\n",
        "\n",
        "$$\\text{test statistic} = \\text{proportion of Chansey encounters in sample} - 0.04$$\n",
        "\n",
        "\n",
        "Let's conduct 10,000 simulations. Create an array named `proportion_diffs` containing 10,000 simulated values of the test statistic described above. Utilize the function created in the previous question to perform this task."
      ]
    },
    {
      "cell_type": "code",
      "execution_count": null,
      "metadata": {
        "id": "6NJbsLN9ciZ4",
        "outputId": "b9cfd738-60cc-4b71-cbfa-232984ecbe0c"
      },
      "outputs": [
        {
          "data": {
            "image/png": "[encoded data removed]",
            "text/plain": [
              "<Figure size 720x360 with 1 Axes>"
            ]
          },
          "metadata": {},
          "output_type": "display_data"
        }
      ],
      "source": [
        "proportion_diffs = np.array([])\n",
        "\n",
        "for i in np.arange(10000):\n",
        "    new_count = one_simulation()\n",
        "    proportion_diffs = np.append(proportion_diffs, new_count)\n",
        "\n",
        "\n",
        "# Visualize with a histogram. Don't change anything below.\n",
        "bpd.DataFrame().assign(proportion_differences=proportion_diffs).plot(kind='hist', bins=20, density=True, ec='w', figsize=(10, 5));\n",
        "plt.axvline(x=(48 / 821 - 0.04), color='black', linewidth=4, label='observed statistic')\n",
        "plt.legend();"
      ]
    },
    {
      "cell_type": "code",
      "execution_count": null,
      "metadata": {
        "deletable": false,
        "editable": false,
        "id": "xefvBmUIciZ5",
        "outputId": "dd6ec7d5-cb80-4cd2-ada4-0cb2e9a23d44"
      },
      "outputs": [
        {
          "data": {
            "text/html": [
              "<p><strong><pre style='display: inline;'>q1_2</pre></strong> passed!</p>"
            ],
            "text/plain": [
              "q1_2 results: All test cases passed!"
            ]
          },
          "execution_count": 29,
          "metadata": {},
          "output_type": "execute_result"
        }
      ],
      "source": [
        "grader.check(\"q1_2\")"
      ]
    },
    {
      "cell_type": "markdown",
      "metadata": {
        "id": "vKinZ7-dciZ6"
      },
      "source": [
        "**Question 1.3.** Calculate the p-value for this hypothesis test, and assign the result to `safari_zone_p`.\n",
        "\n",
        "***Hint:*** Do large values of our test statistic favor the alternative hypothesis, or do small values of our test statistic favor the alternative hypothesis?"
      ]
    },
    {
      "cell_type": "markdown",
      "metadata": {
        "id": "xKhVNfOrciZ7"
      },
      "source": [
        "<h1> wat does the hint mean <h1>"
      ]
    },
    {
      "cell_type": "code",
      "execution_count": null,
      "metadata": {
        "id": "T1ji1SLsciZ7",
        "outputId": "a43eb2b6-f6dc-4369-b3d1-cad609b948d6"
      },
      "outputs": [
        {
          "data": {
            "text/plain": [
              "0.018465286236297195"
            ]
          },
          "execution_count": 30,
          "metadata": {},
          "output_type": "execute_result"
        }
      ],
      "source": [
        "safari_zone_p = 48 / 821 - 0.04\n",
        "safari_zone_p"
      ]
    },
    {
      "cell_type": "code",
      "execution_count": null,
      "metadata": {
        "deletable": false,
        "editable": false,
        "id": "axaqp22-ciZ8",
        "outputId": "91f7df6a-df7d-4375-fbe2-d8772a93cf05"
      },
      "outputs": [
        {
          "data": {
            "text/html": [
              "<p><strong><pre style='display: inline;'>q1_3</pre></strong> passed!</p>"
            ],
            "text/plain": [
              "q1_3 results: All test cases passed!"
            ]
          },
          "execution_count": 31,
          "metadata": {},
          "output_type": "execute_result"
        }
      ],
      "source": [
        "grader.check(\"q1_3\")"
      ]
    },
    {
      "cell_type": "markdown",
      "metadata": {
        "id": "d5qMrJWEciZ8"
      },
      "source": [
        "**Question 1.4.** Using the standard p-value cutoff of 0.05, what can we conclude from our hypothesis test? Assign either 1, 2, 3, or 4 to the variable `safari_zone_conclusion`, corresponding to the best conclusion.\n",
        "   \n",
        "   1. We reject the null hypothesis. There is not enough evidence to say that the observed data is inconsistent with the model.\n",
        "   1. We reject the null hypothesis. The observed data is inconsistent with the model.\n",
        "   1. We accept the null hypothesis. The observed data is consistent with the model.\n",
        "   1. We fail to reject the null hypothesis. There is not enough evidence to say that the observed data is inconsistent with the model."
      ]
    },
    {
      "cell_type": "markdown",
      "metadata": {
        "id": "i4okyIcZciZ9"
      },
      "source": [
        "<h1> the model being in this case the default proability of<br>\n",
        "the pokemon showing<h1>"
      ]
    },
    {
      "cell_type": "code",
      "execution_count": null,
      "metadata": {
        "id": "moNwFw7KciZ-"
      },
      "outputs": [],
      "source": [
        "safari_zone_conclusion = 2"
      ]
    },
    {
      "cell_type": "code",
      "execution_count": null,
      "metadata": {
        "deletable": false,
        "editable": false,
        "id": "1GBp07BuciZ_",
        "outputId": "1b4eef81-583d-49ed-a594-cf1ac45ebaaa"
      },
      "outputs": [
        {
          "data": {
            "text/html": [
              "<p><strong><pre style='display: inline;'>q1_4</pre></strong> passed!</p>"
            ],
            "text/plain": [
              "q1_4 results: All test cases passed!"
            ]
          },
          "execution_count": 34,
          "metadata": {},
          "output_type": "execute_result"
        }
      ],
      "source": [
        "grader.check(\"q1_4\")"
      ]
    },
    {
      "cell_type": "markdown",
      "metadata": {
        "id": "2rLrb6gdciZ_"
      },
      "source": [
        "**Question 1.5.** In this question, we chose as our test statistic the proportion of Chansey encounters in the Safari Zone minus 0.04. But this is not the only statistic we could have chosen; there are many that could have worked here.\n",
        "\n",
        "From the options below, choose the test statistic that would **not** have worked for this hypothesis test, and assign 1, 2, 3, or 4 to the variable `bad_choice`.\n",
        "\n",
        "1. The number of Chansey encounters out of 821 enounters in the Safari Zone.\n",
        "1. The proportion of Chansey encounters in the Safari Zone.\n",
        "1. 0.04 minus the proportion of Chansey encounters in the Safari Zone.\n",
        "1. The absolute difference between 0.04 and the proportion of Chansey encounters in the Safari Zone.\n",
        "\n",
        "***Hint:*** Our goal is to find a test statistic that will help us determine whether we encounter Chansey **more** often than expected."
      ]
    },
    {
      "cell_type": "markdown",
      "metadata": {
        "id": "GHHCEYCdciaA"
      },
      "source": [
        "<h1>wats the difference between 1 & 2<h1>"
      ]
    },
    {
      "cell_type": "code",
      "execution_count": null,
      "metadata": {
        "id": "dthk9UYjcibL",
        "outputId": "912bdc67-730f-420c-d6f7-ebd2a5d2a264"
      },
      "outputs": [
        {
          "data": {
            "text/plain": [
              "1"
            ]
          },
          "execution_count": 40,
          "metadata": {},
          "output_type": "execute_result"
        }
      ],
      "source": [
        "bad_choice = 3\n",
        "bad_choice"
      ]
    },
    {
      "cell_type": "code",
      "execution_count": null,
      "metadata": {
        "deletable": false,
        "editable": false,
        "id": "GKIo2PwgcibM",
        "outputId": "eb69fedc-343e-457e-c369-029276dca8fb"
      },
      "outputs": [
        {
          "data": {
            "text/html": [
              "<p><strong><pre style='display: inline;'>q1_5</pre></strong> passed!</p>"
            ],
            "text/plain": [
              "q1_5 results: All test cases passed!"
            ]
          },
          "execution_count": 41,
          "metadata": {},
          "output_type": "execute_result"
        }
      ],
      "source": [
        "grader.check(\"q1_5\")"
      ]
    },
    {
      "cell_type": "markdown",
      "metadata": {
        "id": "QKIJoF1QcibN"
      },
      "source": [
        "## 2. <span>Tetris Blocks</span> 📱"
      ]
    },
    {
      "cell_type": "markdown",
      "metadata": {
        "id": "LJ4ObUW5cibN"
      },
      "source": [
        "<img src='images/tetris.png' width='300'>"
      ]
    },
    {
      "cell_type": "markdown",
      "metadata": {
        "id": "_h9TStkYcibN"
      },
      "source": [
        "Tetris is a classic video game where the player moves differently shaped puzzle pieces in an attempt to fit them neatly together in order to clear rows and prevent the board from filling up. The longer you can stop your board from filling up, the higher your score. There are seven unique shapes, each composed of four squares arranged in different shapes. The official name for this type of block is a [tetromino](https://en.wikipedia.org/wiki/Tetromino)!\n",
        "\n",
        "<img src='images/tetris-blocks.webp' width='600'>\n",
        "\n",
        "The seven types of blocks used in Tetris include: `'I-block'`, `'J-block'`, `'L-block'`, `'O-block'`, `'S-block'`, `'T-block'`, and `'Z-block'`. The most coveted block is the `'I-block'`, which can clear several rows at once *if* it appears at the appropriate time. Unfortunately, there is no publicly available information on the exact probabilities of getting any of the seven block types during a game of Tetris. <mark>However, our DSC 10 tutor Daniel plays Tetris a lot, and based on his experience with the game, he proposes the following probability distribution.<mark>"
      ]
    },
    {
      "cell_type": "markdown",
      "metadata": {
        "id": "kvHyP8cRcibO"
      },
      "source": [
        "<h1>based on what exactly how did daniel ACTUALLY get these numbers<h1>"
      ]
    },
    {
      "cell_type": "markdown",
      "metadata": {
        "id": "t4kkhDK4cibO"
      },
      "source": [
        "| Type | Daniel's Estimated Probability|\n",
        "| --- | --- |\n",
        "| I-block | $0.14$ |\n",
        "| J-block | $0.15$ |\n",
        "| L-block | $0.12$ |\n",
        "| O-block | $0.18$ |\n",
        "| S-block | $0.15$ |\n",
        "| T-block | $0.14$ |\n",
        "| Z-block | $0.12$ |\n",
        "\n",
        "We'll store this distribution in an array, in the order shown above."
      ]
    },
    {
      "cell_type": "code",
      "execution_count": null,
      "metadata": {
        "id": "dLZ_li1YcibO",
        "outputId": "0759b629-751c-4955-e438-66ed3d816659"
      },
      "outputs": [
        {
          "data": {
            "text/plain": [
              "array([0.14, 0.15, 0.12, 0.18, 0.15, 0.14, 0.12])"
            ]
          },
          "execution_count": 42,
          "metadata": {},
          "output_type": "execute_result"
        }
      ],
      "source": [
        "# Just run this cell, do not change it!\n",
        "daniel_dist = np.array([0.14, 0.15, 0.12, 0.18, 0.15, 0.14, 0.12])\n",
        "daniel_dist"
      ]
    },
    {
      "cell_type": "markdown",
      "metadata": {
        "id": "mVQCIlvDcibP"
      },
      "source": [
        "To assess the validity of Daniel's model, you collect data from many Tetris players. You learn that in total, out of 2,902 Tetris pieces placed:\n",
        "- 415 were `'I-block'`,\n",
        "- 462 were `'J-block'`,\n",
        "- 367 were `'L-block'`,\n",
        "- 539 were `'O-block'`,\n",
        "- 413 were `'S-block'`,\n",
        "- 358 were `'T-block'`,\n",
        "- the rest were `'Z-block'`.\n",
        "\n",
        "You then calculate the **empirical** type distribution using the data you collected and store it in an array as well (in the same order as before):"
      ]
    },
    {
      "cell_type": "code",
      "execution_count": null,
      "metadata": {
        "id": "1Vj4Y8MqcibP",
        "outputId": "b32d2eae-2562-48a1-c1ec-413da7786d64"
      },
      "outputs": [
        {
          "data": {
            "text/plain": [
              "array([0.14300482, 0.15920055, 0.12646451, 0.18573398, 0.14231564,\n",
              "       0.1233632 , 0.1199173 ])"
            ]
          },
          "execution_count": 44,
          "metadata": {},
          "output_type": "execute_result"
        }
      ],
      "source": [
        "# Just run this cell, do not change it!\n",
        "empirical_dist = np.array([415, 462, 367, 539, 413, 358, 2902 - (415 + 462 + 367 + 539 +413 + 358)]) / 2902\n",
        "empirical_dist"
      ]
    },
    {
      "cell_type": "markdown",
      "metadata": {
        "id": "juelxhHOcibQ"
      },
      "source": [
        "While `empirical_dist` is not identical to `daniel_dist`, it's still possible that Daniel's model is plausible, and that the observed differences are due to random chance. Let's run a hypothesis test to investigate further, using the following hypotheses:\n",
        "\n",
        "**Null Hypothesis**: The types of Tetris blocks are drawn randomly from the distribution `daniel_dist`.\n",
        "\n",
        "**Alternative Hypothesis**: The types of Tetris blcoks are _not_ drawn randomly from the distribution `daniel_dist`.\n",
        "\n",
        "Note that this hypothesis test involves seven proportions, one for each block shape.\n",
        "\n",
        "**Question 2.1.**  Which of the following is **not** a reasonable choice of test statistic for this hypothesis test? Assign 1, 2, or 3 to the variable `unreasonable_test_statistic`.\n",
        "1. The sum of the absolute difference between the proposed distribution (Daniel's expected proportion of types) and the empirical distribution (actual proportion of types).\n",
        "1. The absolute difference between the sum of the proposed distribution (Daniel's expected proportion of types) and the sum of the empirical distribution (actual proportion of types).\n",
        "1. Among all seven Tetris block types, the largest absolute difference between Daniel's expected proportion and the actual proportion of blocks of that type."
      ]
    },
    {
      "cell_type": "code",
      "execution_count": null,
      "metadata": {
        "id": "H8I-chHZcibQ"
      },
      "outputs": [],
      "source": [
        "unreasonable_test_statistic = 3"
      ]
    },
    {
      "cell_type": "code",
      "execution_count": null,
      "metadata": {
        "deletable": false,
        "editable": false,
        "id": "dThYhHAWcibR",
        "outputId": "2a4273a9-94b4-4a99-cf9c-a9c4a09779f1"
      },
      "outputs": [
        {
          "data": {
            "text/html": [
              "<p><strong><pre style='display: inline;'>q2_1</pre></strong> passed!</p>"
            ],
            "text/plain": [
              "q2_1 results: All test cases passed!"
            ]
          },
          "execution_count": 46,
          "metadata": {},
          "output_type": "execute_result"
        }
      ],
      "source": [
        "grader.check(\"q2_1\")"
      ]
    },
    {
      "cell_type": "markdown",
      "metadata": {
        "id": "xP5F2MlScibR"
      },
      "source": [
        "**Question 2.2.** We'll use the TVD, i.e. **total variation distance**, as our test statistic. Below, complete the implementation of the function `total_variation_distance`, which takes in two distributions (stored as arrays) as arguments and returns the total variation distance between the two arrays.\n",
        "\n",
        "Then, use the function `total_variation_distance` to determine the TVD between the type distribution proposed by Daniel and the empirical type distribution you observed. Assign this TVD to `observed_tvd`."
      ]
    },
    {
      "cell_type": "code",
      "execution_count": null,
      "metadata": {
        "id": "syIlSG9ncibS",
        "outputId": "436f5bb8-554d-481a-d7cd-f187bf06de9b"
      },
      "outputs": [
        {
          "name": "stdout",
          "output_type": "stream",
          "text": [
            "[3 3 1]\n"
          ]
        }
      ],
      "source": [
        "x,y = np.array([0,-1,1]),np.array([3,-4,0])\n",
        "print(abs(x - y))"
      ]
    },
    {
      "cell_type": "code",
      "execution_count": null,
      "metadata": {
        "id": "3gp6Blg_cibS",
        "outputId": "9e877181-f675-4742-d594-2cf19095e70f"
      },
      "outputs": [
        {
          "data": {
            "text/plain": [
              "0.024403859407305308"
            ]
          },
          "execution_count": 81,
          "metadata": {},
          "output_type": "execute_result"
        }
      ],
      "source": [
        "def total_variation_distance(first_distrib, second_distrib):\n",
        "    '''Computes the total variation distance between two distributions.'''\n",
        "    return sum(abs(first_distrib - second_distrib)) / 2\n",
        "\n",
        "observed_tvd = total_variation_distance(daniel_dist, empirical_dist)\n",
        "observed_tvd\n",
        "# sum(observed_tvd)"
      ]
    },
    {
      "cell_type": "markdown",
      "metadata": {
        "id": "tXZyhWUOcibT"
      },
      "source": [
        "<mark>why was this version wrong <mark>"
      ]
    },
    {
      "cell_type": "raw",
      "metadata": {
        "id": "uvPa_BgDcib9"
      },
      "source": [
        "def total_variation_distance(first_distrib, second_distrib):\n",
        "    '''Computes the total variation distance between two distributions.'''\n",
        "    return abs(first_distrib - second_distrib)\n",
        "\n",
        "observed_tvd = total_variation_distance(daniel_dist, empirical_dist).sum()/2\n",
        "observed_tvd\n",
        "# sum(observed_tvd)"
      ]
    },
    {
      "cell_type": "code",
      "execution_count": null,
      "metadata": {
        "deletable": false,
        "editable": false,
        "id": "YOL2vINHcib9",
        "outputId": "505a741d-8a62-45b0-b84c-d91fb4a4c8ff"
      },
      "outputs": [
        {
          "data": {
            "text/html": [
              "<p><strong><pre style='display: inline;'>q2_2</pre></strong> passed!</p>"
            ],
            "text/plain": [
              "q2_2 results: All test cases passed!"
            ]
          },
          "execution_count": 82,
          "metadata": {},
          "output_type": "execute_result"
        }
      ],
      "source": [
        "grader.check(\"q2_2\")"
      ]
    },
    {
      "cell_type": "markdown",
      "metadata": {
        "id": "tn3smpf8cib-"
      },
      "source": [
        "**Question 2.3.** Now, we'll calculate 5,000 simulated TVDs to see what a typical TVD between the proposed distribution and an empirical distribution would look like if Daniel's model were accurate. Since our real-life data includes 2,902 Tetris blocks, in each trial of the simulation, we'll:\n",
        "- draw 2,902 Tetris blocks at random from Daniel's proposed distribution, then\n",
        "- calculate the TVD between **Daniel's proposed type distribution** and the **empirical type distribution from the simulated sample**.\n",
        "\n",
        "Store these 5,000 simulated TVDs in an array called `simulated_tvds`."
      ]
    },
    {
      "cell_type": "raw",
      "metadata": {
        "id": "NrOakCWwcib_"
      },
      "source": [
        "simulated_tvds = np.array([])\n",
        "\n",
        "for i in np.arange(50):\n",
        "    sample_distribution = np.random.multinomial(2902, daniel_dist) / 2902\n",
        "    new_tvd = total_variation_distance(sample_distribution, daniel_dist)\n",
        "    simulated_tvds = np.append(simulated_tvds, new_tvd)\n",
        "simulated_tvds"
      ]
    },
    {
      "cell_type": "code",
      "execution_count": null,
      "metadata": {
        "scrolled": false,
        "id": "yLqYjaRfcib_",
        "outputId": "59c84800-4b04-4300-9ab3-a937a1388851"
      },
      "outputs": [
        {
          "data": {
            "image/png": "[encoded data removed]",
            "text/plain": [
              "<Figure size 720x360 with 1 Axes>"
            ]
          },
          "metadata": {},
          "output_type": "display_data"
        }
      ],
      "source": [
        "simulated_tvds = np.array([])\n",
        "\n",
        "for i in np.arange(5000):\n",
        "    sample_distribution = np.random.multinomial(2902, daniel_dist) / 2902\n",
        "    new_tvd = total_variation_distance(sample_distribution, daniel_dist)\n",
        "    simulated_tvds = np.append(simulated_tvds, new_tvd)\n",
        "# Visualize the distribution of TVDs with a histogram\n",
        "bpd.DataFrame().assign(simulated_tvds=simulated_tvds).plot(kind='hist', density=True, ec='w', figsize=(10, 5));\n",
        "plt.axvline(x=observed_tvd, color='black', linewidth=4, label='observed TVD')\n",
        "plt.legend();"
      ]
    },
    {
      "cell_type": "code",
      "execution_count": null,
      "metadata": {
        "deletable": false,
        "editable": false,
        "id": "fg0ZGgugcib_"
      },
      "outputs": [],
      "source": [
        "grader.check(\"q2_3\")"
      ]
    },
    {
      "cell_type": "markdown",
      "metadata": {
        "id": "uyRK6c9vcicA"
      },
      "source": [
        "**Question 2.4.** Now, determine the p-value for our test by finding the proportion of times in our simulation that we saw a TVD greater than or equal to our observed TVD. Assign your result to `tetris_p`."
      ]
    },
    {
      "cell_type": "code",
      "execution_count": null,
      "metadata": {
        "scrolled": true,
        "id": "X9L6H2fpcicA",
        "outputId": "507af83d-4b3c-4cb8-e1cd-db59257cc6ec"
      },
      "outputs": [
        {
          "data": {
            "text/plain": [
              "0.024403859407305308"
            ]
          },
          "execution_count": 89,
          "metadata": {},
          "output_type": "execute_result"
        }
      ],
      "source": [
        "tetris_p = observed_tvd\n",
        "tetris_p"
      ]
    },
    {
      "cell_type": "code",
      "execution_count": null,
      "metadata": {
        "deletable": false,
        "editable": false,
        "id": "UECSBMWAcicB",
        "outputId": "ec21de93-5f39-4014-f57d-2eea7034a159"
      },
      "outputs": [
        {
          "data": {
            "text/html": [
              "<p><strong><pre style='display: inline;'>q2_4</pre></strong> passed!</p>"
            ],
            "text/plain": [
              "q2_4 results: All test cases passed!"
            ]
          },
          "execution_count": 90,
          "metadata": {},
          "output_type": "execute_result"
        }
      ],
      "source": [
        "grader.check(\"q2_4\")"
      ]
    },
    {
      "cell_type": "markdown",
      "metadata": {
        "id": "vBlr1N9BcicB"
      },
      "source": [
        "<h1>does this choosen need to be higher or lower<h1>"
      ]
    },
    {
      "cell_type": "markdown",
      "metadata": {
        "id": "CIFC25qwcicC"
      },
      "source": [
        "**Question 2.5.** Using the standard p-value cutoff of 0.05, what can we conclude from our hypothesis test? Assign either 1, 2, 3, or 4 to the variable `tetris_conclusion`, corresponding to the best conclusion.\n",
        "   \n",
        "   1. We accept the null hypothesis. The observed data is consistent with the model.\n",
        "   1. We reject the null hypothesis. There is not enough evidence to say if the observed data is consistent with the model.\n",
        "   1. We reject the null hypothesis. The observed data is inconsistent with the model.\n",
        "   1. We fail to reject the null hypothesis. There is not enough evidence to say that the observed data is inconsistent with the model."
      ]
    },
    {
      "cell_type": "code",
      "execution_count": null,
      "metadata": {
        "id": "_r7AmQKJcicC",
        "outputId": "dd3f7435-cb7b-4f26-8e5a-b316d8728a93"
      },
      "outputs": [
        {
          "data": {
            "text/plain": [
              "4"
            ]
          },
          "execution_count": 91,
          "metadata": {},
          "output_type": "execute_result"
        }
      ],
      "source": [
        "tetris_conclusion = 4\n",
        "tetris_conclusion"
      ]
    },
    {
      "cell_type": "code",
      "execution_count": null,
      "metadata": {
        "deletable": false,
        "editable": false,
        "id": "Mxei8548cicC",
        "outputId": "4152ee7e-eb37-4045-c78d-a134066eb9df"
      },
      "outputs": [
        {
          "data": {
            "text/html": [
              "<p><strong><pre style='display: inline;'>q2_5</pre></strong> passed!</p>"
            ],
            "text/plain": [
              "q2_5 results: All test cases passed!"
            ]
          },
          "execution_count": 92,
          "metadata": {},
          "output_type": "execute_result"
        }
      ],
      "source": [
        "grader.check(\"q2_5\")"
      ]
    },
    {
      "cell_type": "markdown",
      "metadata": {
        "id": "Ni0i6lsucicD"
      },
      "source": [
        "## 3. Award-Winning Anime 🐱‍👤🏆\n",
        "<img src='images/attack-on-titan.jpg' width='1000'>\n",
        "\n",
        "The `animes.csv` dataset from [Kaggle](https://www.kaggle.com/datasets/dbdmobile/myanimelist-dataset?resource=download) contains more than 10,000 anime TV series, movies, and OVAs (original video animations). See if your favorite anime is in there!\n",
        "\n",
        "The data contains six columns: `'Name'`, `'English name'`, `'Episodes'`, `'Aired'`, `'Genres'`, `'Score'`. Let's read it in and store it as a DataFrame named `anime`.\n",
        "\n",
        "| Column | Description |\n",
        "| --- | --- |\n",
        "| `'Name'` | The name of the anime in its original language |\n",
        "| `'English name'` | The English name of the anime |\n",
        "| `'Episodes'` | The number of episodes in the anime |\n",
        "| `'Aired'` | The dates when the anime was aired |\n",
        "| `'Genres'` | The genres of the anime, separated by commas |\n",
        "| `'Score'` | The score given to the anime |"
      ]
    },
    {
      "cell_type": "code",
      "execution_count": null,
      "metadata": {
        "colab": {
          "base_uri": "https://localhost:8080/",
          "height": 944
        },
        "id": "svBGHBgHcicD",
        "outputId": "9a559887-7723-467f-c43d-3eccf052642c"
      },
      "outputs": [
        {
          "output_type": "execute_result",
          "data": {
            "text/plain": [
              "                                                    Name  \\\n",
              "0                                           Cowboy Bebop   \n",
              "1                        Cowboy Bebop: Tengoku no Tobira   \n",
              "2                                                 Trigun   \n",
              "3                                     Witch Hunter Robin   \n",
              "4                                         Bouken Ou Beet   \n",
              "...                                                  ...   \n",
              "11435  One Piece: Dai Gekisen Tokushuu! Zoro vs. Ooka...   \n",
              "11436         Gensou Mangekyou: The Memories of Phantasm   \n",
              "11437        Mashle: Mash Burnedead to Fushigi na Tegami   \n",
              "11438  Li Shi Zhentan Shiwusuo: A Day in Lungmen - Ho...   \n",
              "11439  One Piece: Dai Gekisen Tokushuu! Hangeki Doume...   \n",
              "\n",
              "                                            English name  Episodes  \\\n",
              "0                                           Cowboy Bebop        26   \n",
              "1                                Cowboy Bebop: The Movie         1   \n",
              "2                                                 Trigun        26   \n",
              "3                                     Witch Hunter Robin        26   \n",
              "4                                 Beet the Vandel Buster        52   \n",
              "...                                                  ...       ...   \n",
              "11435  One Piece: Recapping Fierce Fights! Zoro vs. a...         1   \n",
              "11436  Touhou Fantasy Kaleidoscope: The Memories of P...        18   \n",
              "11437  Mashle: Magic and Muscles - Mash Burnedead and...         1   \n",
              "11438  Lee's Detective Agency: A Day in Lungmen - Hom...         1   \n",
              "11439  One Piece: Recapping Fierce Fights! The Counte...         1   \n",
              "\n",
              "                              Aired                                Genres  \\\n",
              "0       Apr 3, 1998 to Apr 24, 1999         Action, Award-Winning, Sci-Fi   \n",
              "1                       Sep 1, 2001                        Action, Sci-Fi   \n",
              "2       Apr 1, 1998 to Sep 30, 1998             Action, Adventure, Sci-Fi   \n",
              "3       Jul 3, 2002 to Dec 25, 2002  Action, Drama, Mystery, Supernatural   \n",
              "4      Sep 30, 2004 to Sep 29, 2005      Adventure, Fantasy, Supernatural   \n",
              "...                             ...                                   ...   \n",
              "11435                  May 14, 2023    Action, Adventure, Comedy, Fantasy   \n",
              "11436   Aug 12, 2011 to May 7, 2023                               Fantasy   \n",
              "11437                  May 20, 2023               Action, Comedy, Fantasy   \n",
              "11438                  Oct 24, 2021               Action, Comedy, Mystery   \n",
              "11439                  Jun 18, 2023    Action, Adventure, Comedy, Fantasy   \n",
              "\n",
              "       Score  \n",
              "0       8.75  \n",
              "1       8.38  \n",
              "2       8.22  \n",
              "3       7.25  \n",
              "4       6.94  \n",
              "...      ...  \n",
              "11435   6.47  \n",
              "11436   7.78  \n",
              "11437   5.84  \n",
              "11438   5.99  \n",
              "11439   6.29  \n",
              "\n",
              "[11440 rows x 6 columns]"
            ],
            "text/html": [
              "<div>\n",
              "<style scoped>\n",
              "    .dataframe tbody tr th:only-of-type {\n",
              "        vertical-align: middle;\n",
              "    }\n",
              "\n",
              "    .dataframe tbody tr th {\n",
              "        vertical-align: top;\n",
              "    }\n",
              "\n",
              "    .dataframe thead th {\n",
              "        text-align: right;\n",
              "    }\n",
              "</style>\n",
              "<table border=\"1\" class=\"dataframe\">\n",
              "  <thead>\n",
              "    <tr style=\"text-align: right;\">\n",
              "      <th></th>\n",
              "      <th>Name</th>\n",
              "      <th>English name</th>\n",
              "      <th>Episodes</th>\n",
              "      <th>Aired</th>\n",
              "      <th>Genres</th>\n",
              "      <th>Score</th>\n",
              "    </tr>\n",
              "  </thead>\n",
              "  <tbody>\n",
              "    <tr>\n",
              "      <th>0</th>\n",
              "      <td>Cowboy Bebop</td>\n",
              "      <td>Cowboy Bebop</td>\n",
              "      <td>26</td>\n",
              "      <td>Apr 3, 1998 to Apr 24, 1999</td>\n",
              "      <td>Action, Award-Winning, Sci-Fi</td>\n",
              "      <td>8.75</td>\n",
              "    </tr>\n",
              "    <tr>\n",
              "      <th>1</th>\n",
              "      <td>Cowboy Bebop: Tengoku no Tobira</td>\n",
              "      <td>Cowboy Bebop: The Movie</td>\n",
              "      <td>1</td>\n",
              "      <td>Sep 1, 2001</td>\n",
              "      <td>Action, Sci-Fi</td>\n",
              "      <td>8.38</td>\n",
              "    </tr>\n",
              "    <tr>\n",
              "      <th>2</th>\n",
              "      <td>Trigun</td>\n",
              "      <td>Trigun</td>\n",
              "      <td>26</td>\n",
              "      <td>Apr 1, 1998 to Sep 30, 1998</td>\n",
              "      <td>Action, Adventure, Sci-Fi</td>\n",
              "      <td>8.22</td>\n",
              "    </tr>\n",
              "    <tr>\n",
              "      <th>3</th>\n",
              "      <td>Witch Hunter Robin</td>\n",
              "      <td>Witch Hunter Robin</td>\n",
              "      <td>26</td>\n",
              "      <td>Jul 3, 2002 to Dec 25, 2002</td>\n",
              "      <td>Action, Drama, Mystery, Supernatural</td>\n",
              "      <td>7.25</td>\n",
              "    </tr>\n",
              "    <tr>\n",
              "      <th>4</th>\n",
              "      <td>Bouken Ou Beet</td>\n",
              "      <td>Beet the Vandel Buster</td>\n",
              "      <td>52</td>\n",
              "      <td>Sep 30, 2004 to Sep 29, 2005</td>\n",
              "      <td>Adventure, Fantasy, Supernatural</td>\n",
              "      <td>6.94</td>\n",
              "    </tr>\n",
              "    <tr>\n",
              "      <th>...</th>\n",
              "      <td>...</td>\n",
              "      <td>...</td>\n",
              "      <td>...</td>\n",
              "      <td>...</td>\n",
              "      <td>...</td>\n",
              "      <td>...</td>\n",
              "    </tr>\n",
              "    <tr>\n",
              "      <th>11435</th>\n",
              "      <td>One Piece: Dai Gekisen Tokushuu! Zoro vs. Ooka...</td>\n",
              "      <td>One Piece: Recapping Fierce Fights! Zoro vs. a...</td>\n",
              "      <td>1</td>\n",
              "      <td>May 14, 2023</td>\n",
              "      <td>Action, Adventure, Comedy, Fantasy</td>\n",
              "      <td>6.47</td>\n",
              "    </tr>\n",
              "    <tr>\n",
              "      <th>11436</th>\n",
              "      <td>Gensou Mangekyou: The Memories of Phantasm</td>\n",
              "      <td>Touhou Fantasy Kaleidoscope: The Memories of P...</td>\n",
              "      <td>18</td>\n",
              "      <td>Aug 12, 2011 to May 7, 2023</td>\n",
              "      <td>Fantasy</td>\n",
              "      <td>7.78</td>\n",
              "    </tr>\n",
              "    <tr>\n",
              "      <th>11437</th>\n",
              "      <td>Mashle: Mash Burnedead to Fushigi na Tegami</td>\n",
              "      <td>Mashle: Magic and Muscles - Mash Burnedead and...</td>\n",
              "      <td>1</td>\n",
              "      <td>May 20, 2023</td>\n",
              "      <td>Action, Comedy, Fantasy</td>\n",
              "      <td>5.84</td>\n",
              "    </tr>\n",
              "    <tr>\n",
              "      <th>11438</th>\n",
              "      <td>Li Shi Zhentan Shiwusuo: A Day in Lungmen - Ho...</td>\n",
              "      <td>Lee's Detective Agency: A Day in Lungmen - Hom...</td>\n",
              "      <td>1</td>\n",
              "      <td>Oct 24, 2021</td>\n",
              "      <td>Action, Comedy, Mystery</td>\n",
              "      <td>5.99</td>\n",
              "    </tr>\n",
              "    <tr>\n",
              "      <th>11439</th>\n",
              "      <td>One Piece: Dai Gekisen Tokushuu! Hangeki Doume...</td>\n",
              "      <td>One Piece: Recapping Fierce Fights! The Counte...</td>\n",
              "      <td>1</td>\n",
              "      <td>Jun 18, 2023</td>\n",
              "      <td>Action, Adventure, Comedy, Fantasy</td>\n",
              "      <td>6.29</td>\n",
              "    </tr>\n",
              "  </tbody>\n",
              "</table>\n",
              "<p>11440 rows × 6 columns</p>\n",
              "</div>"
            ]
          },
          "metadata": {},
          "execution_count": 7
        }
      ],
      "source": [
        "anime = bpd.read_csv(\"/content/sample_data/data/animes.csv\")\n",
        "anime"
      ]
    },
    {
      "cell_type": "markdown",
      "metadata": {
        "id": "P1FPsqgZcicE"
      },
      "source": [
        "Notice that some rows of the DataFrame preview above, such as the first row for `'Cowboy Bebop'`, include `'Award-Winning'` in the `'Genres'` column. This means the anime won an award, such as the Crunchyroll Anime Award. In 2024, this award was given to  *Jujutsu Kaisen* in case you want to check it out.\n",
        "\n",
        "In this section, we will explore whether the scores for award-winning animes come from the same distribution as non-winning animes."
      ]
    },
    {
      "cell_type": "code",
      "source": [
        "def label_award(genres_str):\n",
        "  \"\"\"\n",
        "  Takes a string of genres associated with a single row of anime and returns either 'Award-Winning' or 'No Award'.\n",
        "\n",
        "  Args:\n",
        "    genres_str: A string containing genres associated with a single row of anime.\n",
        "\n",
        "  Returns:\n",
        "    A string, either 'Award-Winning' or 'No Award'.\n",
        "  \"\"\"\n",
        "  genres_list = genres_str.split(',')\n",
        "  award_genres = ['Slice of Life', 'Drama', 'Comedy', 'Romance', 'Music', 'Sports', 'Mystery']\n",
        "  for genre in genres_list:\n",
        "    if genre in award_genres:\n",
        "      return 'Award-Winning'\n",
        "  return 'No Award'\n",
        "\n",
        "# Create a new DataFrame with an additional column named 'Award_Status'\n",
        "animes_labeled = animes.copy()\n",
        "animes_labeled['Award_Status'] = animes_labeled['Genres'].apply(label_award)\n",
        "\n",
        "# Display the first five rows of the new DataFrame\n",
        "animes_labeled.head()"
      ],
      "metadata": {
        "colab": {
          "base_uri": "https://localhost:8080/"
        },
        "id": "M2PN1iAjhEr6",
        "outputId": "0a49231e-5949-4c21-e5ed-ac61a0041c02"
      },
      "execution_count": null,
      "outputs": [
        {
          "output_type": "stream",
          "name": "stdout",
          "text": [
            "sample_data\n"
          ]
        }
      ]
    },
    {
      "cell_type": "code",
      "source": [
        "genres_list = anime['Genres'].str.split(',').explode()\n",
        "\n",
        "# Get the unique values from the exploded list\n",
        "unique_genres = genres_list.unique()\n",
        "\n",
        "# Print the unique genres\n",
        "print(unique_genres)"
      ],
      "metadata": {
        "colab": {
          "base_uri": "https://localhost:8080/",
          "height": 396
        },
        "id": "VBciQLdmiMNe",
        "outputId": "848acc5a-1e88-422a-e181-fb8ff40d7ba4"
      },
      "execution_count": null,
      "outputs": [
        {
          "output_type": "error",
          "ename": "IndexError",
          "evalue": "BabyPandas only accepts Boolean objects when indexing against the data frame; please use .get to get columns, and .loc or .iloc for more complex cases.",
          "traceback": [
            "\u001b[0;31m---------------------------------------------------------------------------\u001b[0m",
            "\u001b[0;31mIndexError\u001b[0m                                Traceback (most recent call last)",
            "\u001b[0;32m<ipython-input-11-6983cc62c3d9>\u001b[0m in \u001b[0;36m<cell line: 1>\u001b[0;34m()\u001b[0m\n\u001b[0;32m----> 1\u001b[0;31m \u001b[0mgenres_list\u001b[0m \u001b[0;34m=\u001b[0m \u001b[0manime\u001b[0m\u001b[0;34m[\u001b[0m\u001b[0;34m'Genres'\u001b[0m\u001b[0;34m]\u001b[0m\u001b[0;34m.\u001b[0m\u001b[0mstr\u001b[0m\u001b[0;34m.\u001b[0m\u001b[0msplit\u001b[0m\u001b[0;34m(\u001b[0m\u001b[0;34m','\u001b[0m\u001b[0;34m)\u001b[0m\u001b[0;34m.\u001b[0m\u001b[0mexplode\u001b[0m\u001b[0;34m(\u001b[0m\u001b[0;34m)\u001b[0m\u001b[0;34m\u001b[0m\u001b[0;34m\u001b[0m\u001b[0m\n\u001b[0m\u001b[1;32m      2\u001b[0m \u001b[0;34m\u001b[0m\u001b[0m\n\u001b[1;32m      3\u001b[0m \u001b[0;31m# Get the unique values from the exploded list\u001b[0m\u001b[0;34m\u001b[0m\u001b[0;34m\u001b[0m\u001b[0m\n\u001b[1;32m      4\u001b[0m \u001b[0munique_genres\u001b[0m \u001b[0;34m=\u001b[0m \u001b[0mgenres_list\u001b[0m\u001b[0;34m.\u001b[0m\u001b[0munique\u001b[0m\u001b[0;34m(\u001b[0m\u001b[0;34m)\u001b[0m\u001b[0;34m\u001b[0m\u001b[0;34m\u001b[0m\u001b[0m\n\u001b[1;32m      5\u001b[0m \u001b[0;34m\u001b[0m\u001b[0m\n",
            "\u001b[0;32m/usr/local/lib/python3.10/dist-packages/babypandas/bpd.py\u001b[0m in \u001b[0;36m__getitem__\u001b[0;34m(self, key)\u001b[0m\n\u001b[1;32m    118\u001b[0m             \u001b[0mkey\u001b[0m \u001b[0;34m=\u001b[0m \u001b[0mkey\u001b[0m\u001b[0;34m.\u001b[0m\u001b[0mto_ser\u001b[0m\u001b[0;34m(\u001b[0m\u001b[0;34m)\u001b[0m\u001b[0;34m\u001b[0m\u001b[0;34m\u001b[0m\u001b[0m\n\u001b[1;32m    119\u001b[0m         \u001b[0;32mif\u001b[0m \u001b[0;32mnot\u001b[0m \u001b[0mcom\u001b[0m\u001b[0;34m.\u001b[0m\u001b[0mis_bool_indexer\u001b[0m\u001b[0;34m(\u001b[0m\u001b[0mkey\u001b[0m\u001b[0;34m)\u001b[0m\u001b[0;34m:\u001b[0m\u001b[0;34m\u001b[0m\u001b[0;34m\u001b[0m\u001b[0m\n\u001b[0;32m--> 120\u001b[0;31m             raise IndexError(\n\u001b[0m\u001b[1;32m    121\u001b[0m                 \u001b[0;34m\"BabyPandas only accepts Boolean objects \"\u001b[0m\u001b[0;34m\u001b[0m\u001b[0;34m\u001b[0m\u001b[0m\n\u001b[1;32m    122\u001b[0m                 \u001b[0;34m\"when indexing against the data frame; \"\u001b[0m\u001b[0;34m\u001b[0m\u001b[0;34m\u001b[0m\u001b[0m\n",
            "\u001b[0;31mIndexError\u001b[0m: BabyPandas only accepts Boolean objects when indexing against the data frame; please use .get to get columns, and .loc or .iloc for more complex cases."
          ]
        }
      ]
    },
    {
      "cell_type": "markdown",
      "metadata": {
        "id": "pxxOv1SucicE"
      },
      "source": [
        "**Question 3.1.** Complete the implementation of the function `label_award`, which takes in a string of genres associated with a single row of `anime` and returns either `'Award-Winning'` or `'No Award'`.\n",
        "\n",
        "Once you've done that, use your function to help you create a new DataFrame named `anime_labeled` that has all the same columns as `anime`, in the same order, with an additional column named `'Award_Status'` that contains whether the anime is award-winning. The `'Award_Status'` column should contain only two distinct values: `'Award-Winning'` and `'No Award'`."
      ]
    },
    {
      "cell_type": "raw",
      "metadata": {
        "id": "SI-sX5ehcicF"
      },
      "source": [
        "def first_name(genres):\n",
        "    '''Returns the first name given a full name.'''\n",
        "    genres.split(',')[1]\n",
        "    for genre in genres:\n",
        "        if genre ==\"Award Winning\"\n",
        "\n",
        "    return\n",
        "(anime.get(\"Genres\").apply(first_name))"
      ]
    },
    {
      "cell_type": "raw",
      "metadata": {
        "id": "Cd6fTb2zcicF"
      },
      "source": [
        "first,second,third = (anime[anime.get(\"Name\")==\"Jujutsu Kaisen\"]\\\n",
        "                 .get(\"Genres\").values)[0].split(', ')\n",
        "second"
      ]
    },
    {
      "cell_type": "raw",
      "metadata": {
        "id": "uLHhZH6xcicG"
      },
      "source": [
        "np.arange(1)"
      ]
    },
    {
      "cell_type": "raw",
      "metadata": {
        "id": "_gGERD-ecicG"
      },
      "source": [
        "anime.get(\"Genres\").count()"
      ]
    },
    {
      "cell_type": "raw",
      "metadata": {
        "id": "BtTEycY2cicG"
      },
      "source": [
        "for i in np.arange(11440):\n",
        "#     if (word) == \"Award-Winning\":\n",
        "\n",
        "    first,second = (anime\\\n",
        "                                 .get(\"Genres\").values)[i].split(', ')\n",
        "    print(second)\n",
        "\n",
        "#         print(\"No Award\")"
      ]
    },
    {
      "cell_type": "raw",
      "metadata": {
        "id": "WI_BOE1ecicH"
      },
      "source": [
        "for i in  (anime.get(\"Genres\").values)[4].split(', '):\n",
        "    if (i) == \"Award-Winning\":\n",
        "        print(i)\n",
        "    else:\n",
        "        print(\"No Award\")\n"
      ]
    },
    {
      "cell_type": "markdown",
      "metadata": {
        "id": "H18eCZpucicH"
      },
      "source": [
        "<h1>GRRRR IT\\SSSS ALPHABETTICALLLLLL!!!!!!"
      ]
    },
    {
      "cell_type": "raw",
      "metadata": {
        "id": "ET2xE6OacicI"
      },
      "source": [
        "label_award(anime.get(\"Genres\"))"
      ]
    },
    {
      "cell_type": "raw",
      "metadata": {
        "id": "p-4wQQPAcicI"
      },
      "source": [
        "def label_award(genres):\n",
        "    winning_animes = np.array([])\n",
        "    temp = (genres.values).split(', ')\n",
        "    for i in temp:\n",
        "        if (i) == \"Award-Winning\":\n",
        "            np.append(winning_animes,\"Award-Winning\")\n",
        "        else:\n",
        "            None\n",
        "    winning_animes = np.append(winning_animes,\"No Award\")\n",
        "    return winning_animes\n",
        "\n",
        "anime_labeled = anime.get(\"Genres\").apply(label_award)\n",
        "anime_labeled"
      ]
    },
    {
      "cell_type": "code",
      "execution_count": null,
      "metadata": {
        "id": "267uMl9ncicI"
      },
      "outputs": [],
      "source": [
        "anime = anime.assign(label_award=anime.get(\"Genres\"))"
      ]
    },
    {
      "cell_type": "code",
      "execution_count": null,
      "metadata": {
        "id": "mw3IbA7YcicJ",
        "outputId": "6dd9be20-5fb4-485b-d696-e7fdeeb08336"
      },
      "outputs": [
        {
          "ename": "TypeError",
          "evalue": "__init__() takes 1 positional argument but 2 were given",
          "output_type": "error",
          "traceback": [
            "\u001b[0;31m---------------------------------------------------------------------------\u001b[0m",
            "\u001b[0;31mTypeError\u001b[0m                                 Traceback (most recent call last)",
            "\u001b[0;32m/tmp/ipykernel_269/3250895713.py\u001b[0m in \u001b[0;36m<module>\u001b[0;34m\u001b[0m\n\u001b[0;32m----> 1\u001b[0;31m \u001b[0mempty\u001b[0m \u001b[0;34m=\u001b[0m \u001b[0mbpd\u001b[0m\u001b[0;34m.\u001b[0m\u001b[0mSeries\u001b[0m\u001b[0;34m(\u001b[0m\u001b[0;34m[\u001b[0m\u001b[0;34m]\u001b[0m\u001b[0;34m)\u001b[0m\u001b[0;34m\u001b[0m\u001b[0;34m\u001b[0m\u001b[0m\n\u001b[0m",
            "\u001b[0;32m/opt/conda/lib/python3.9/site-packages/babypandas/utils.py\u001b[0m in \u001b[0;36mwrapper\u001b[0;34m(*args, **kwargs)\u001b[0m\n\u001b[1;32m     18\u001b[0m         \u001b[0;32mwith\u001b[0m \u001b[0mwarnings\u001b[0m\u001b[0;34m.\u001b[0m\u001b[0mcatch_warnings\u001b[0m\u001b[0;34m(\u001b[0m\u001b[0;34m)\u001b[0m\u001b[0;34m:\u001b[0m\u001b[0;34m\u001b[0m\u001b[0;34m\u001b[0m\u001b[0m\n\u001b[1;32m     19\u001b[0m             \u001b[0mwarnings\u001b[0m\u001b[0;34m.\u001b[0m\u001b[0msimplefilter\u001b[0m\u001b[0;34m(\u001b[0m\u001b[0;34m\"ignore\"\u001b[0m\u001b[0;34m)\u001b[0m\u001b[0;34m\u001b[0m\u001b[0;34m\u001b[0m\u001b[0m\n\u001b[0;32m---> 20\u001b[0;31m             \u001b[0;32mreturn\u001b[0m \u001b[0mfunc\u001b[0m\u001b[0;34m(\u001b[0m\u001b[0;34m*\u001b[0m\u001b[0margs\u001b[0m\u001b[0;34m,\u001b[0m \u001b[0;34m**\u001b[0m\u001b[0mkwargs\u001b[0m\u001b[0;34m)\u001b[0m\u001b[0;34m\u001b[0m\u001b[0;34m\u001b[0m\u001b[0m\n\u001b[0m\u001b[1;32m     21\u001b[0m \u001b[0;34m\u001b[0m\u001b[0m\n\u001b[1;32m     22\u001b[0m     \u001b[0;32mreturn\u001b[0m \u001b[0mwrapper\u001b[0m\u001b[0;34m\u001b[0m\u001b[0;34m\u001b[0m\u001b[0m\n",
            "\u001b[0;31mTypeError\u001b[0m: __init__() takes 1 positional argument but 2 were given"
          ]
        }
      ],
      "source": [
        "empty = np.array([])"
      ]
    },
    {
      "cell_type": "code",
      "execution_count": null,
      "metadata": {
        "id": "Kp4puY9TcicJ",
        "outputId": "4c643a6f-5e34-405f-9956-29dcbabaf324"
      },
      "outputs": [
        {
          "ename": "ValueError",
          "evalue": "New column does not have the same length as existing DataFrame",
          "output_type": "error",
          "traceback": [
            "\u001b[0;31m---------------------------------------------------------------------------\u001b[0m",
            "\u001b[0;31mValueError\u001b[0m                                Traceback (most recent call last)",
            "\u001b[0;32m/tmp/ipykernel_269/3527600331.py\u001b[0m in \u001b[0;36m<module>\u001b[0;34m\u001b[0m\n\u001b[1;32m      7\u001b[0m             \u001b[0manime\u001b[0m\u001b[0;34m.\u001b[0m\u001b[0massign\u001b[0m\u001b[0;34m(\u001b[0m\u001b[0mlabel_award\u001b[0m\u001b[0;34m=\u001b[0m\u001b[0;34m\"No Award\"\u001b[0m\u001b[0;34m)\u001b[0m\u001b[0;34m\u001b[0m\u001b[0;34m\u001b[0m\u001b[0m\n\u001b[1;32m      8\u001b[0m \u001b[0;34m\u001b[0m\u001b[0m\n\u001b[0;32m----> 9\u001b[0;31m \u001b[0manime_labeled\u001b[0m \u001b[0;34m=\u001b[0m \u001b[0manime\u001b[0m\u001b[0;34m.\u001b[0m\u001b[0mget\u001b[0m\u001b[0;34m(\u001b[0m\u001b[0;34m\"Genres\"\u001b[0m\u001b[0;34m)\u001b[0m\u001b[0;34m.\u001b[0m\u001b[0mapply\u001b[0m\u001b[0;34m(\u001b[0m\u001b[0mlabel_award\u001b[0m\u001b[0;34m)\u001b[0m\u001b[0;34m\u001b[0m\u001b[0;34m\u001b[0m\u001b[0m\n\u001b[0m\u001b[1;32m     10\u001b[0m \u001b[0manime_labeled\u001b[0m\u001b[0;34m\u001b[0m\u001b[0;34m\u001b[0m\u001b[0m\n",
            "\u001b[0;32m/opt/conda/lib/python3.9/site-packages/babypandas/utils.py\u001b[0m in \u001b[0;36mwrapper\u001b[0;34m(*args, **kwargs)\u001b[0m\n\u001b[1;32m     18\u001b[0m         \u001b[0;32mwith\u001b[0m \u001b[0mwarnings\u001b[0m\u001b[0;34m.\u001b[0m\u001b[0mcatch_warnings\u001b[0m\u001b[0;34m(\u001b[0m\u001b[0;34m)\u001b[0m\u001b[0;34m:\u001b[0m\u001b[0;34m\u001b[0m\u001b[0;34m\u001b[0m\u001b[0m\n\u001b[1;32m     19\u001b[0m             \u001b[0mwarnings\u001b[0m\u001b[0;34m.\u001b[0m\u001b[0msimplefilter\u001b[0m\u001b[0;34m(\u001b[0m\u001b[0;34m\"ignore\"\u001b[0m\u001b[0;34m)\u001b[0m\u001b[0;34m\u001b[0m\u001b[0;34m\u001b[0m\u001b[0m\n\u001b[0;32m---> 20\u001b[0;31m             \u001b[0;32mreturn\u001b[0m \u001b[0mfunc\u001b[0m\u001b[0;34m(\u001b[0m\u001b[0;34m*\u001b[0m\u001b[0margs\u001b[0m\u001b[0;34m,\u001b[0m \u001b[0;34m**\u001b[0m\u001b[0mkwargs\u001b[0m\u001b[0;34m)\u001b[0m\u001b[0;34m\u001b[0m\u001b[0;34m\u001b[0m\u001b[0m\n\u001b[0m\u001b[1;32m     21\u001b[0m \u001b[0;34m\u001b[0m\u001b[0m\n\u001b[1;32m     22\u001b[0m     \u001b[0;32mreturn\u001b[0m \u001b[0mwrapper\u001b[0m\u001b[0;34m\u001b[0m\u001b[0;34m\u001b[0m\u001b[0m\n",
            "\u001b[0;32m/opt/conda/lib/python3.9/site-packages/babypandas/bpd.py\u001b[0m in \u001b[0;36mapply\u001b[0;34m(self, func)\u001b[0m\n\u001b[1;32m   1102\u001b[0m \u001b[0;34m\u001b[0m\u001b[0m\n\u001b[1;32m   1103\u001b[0m         \u001b[0mf\u001b[0m \u001b[0;34m=\u001b[0m \u001b[0m_lift_to_pd\u001b[0m\u001b[0;34m(\u001b[0m\u001b[0mself\u001b[0m\u001b[0;34m.\u001b[0m\u001b[0m_pd\u001b[0m\u001b[0;34m.\u001b[0m\u001b[0mapply\u001b[0m\u001b[0;34m)\u001b[0m\u001b[0;34m\u001b[0m\u001b[0;34m\u001b[0m\u001b[0m\n\u001b[0;32m-> 1104\u001b[0;31m         \u001b[0;32mreturn\u001b[0m \u001b[0mf\u001b[0m\u001b[0;34m(\u001b[0m\u001b[0mfunc\u001b[0m\u001b[0;34m=\u001b[0m\u001b[0mfunc\u001b[0m\u001b[0;34m)\u001b[0m\u001b[0;34m\u001b[0m\u001b[0;34m\u001b[0m\u001b[0m\n\u001b[0m\u001b[1;32m   1105\u001b[0m \u001b[0;34m\u001b[0m\u001b[0m\n\u001b[1;32m   1106\u001b[0m     \u001b[0;32mdef\u001b[0m \u001b[0msort_values\u001b[0m\u001b[0;34m(\u001b[0m\u001b[0mself\u001b[0m\u001b[0;34m,\u001b[0m \u001b[0;34m*\u001b[0m\u001b[0;34m,\u001b[0m \u001b[0mascending\u001b[0m\u001b[0;34m=\u001b[0m\u001b[0;32mTrue\u001b[0m\u001b[0;34m)\u001b[0m\u001b[0;34m:\u001b[0m\u001b[0;34m\u001b[0m\u001b[0;34m\u001b[0m\u001b[0m\n",
            "\u001b[0;32m/opt/conda/lib/python3.9/site-packages/babypandas/bpd.py\u001b[0m in \u001b[0;36mclosure\u001b[0;34m(*vargs, **kwargs)\u001b[0m\n\u001b[1;32m   1606\u001b[0m         \u001b[0mkwargs\u001b[0m \u001b[0;34m=\u001b[0m \u001b[0;34m{\u001b[0m\u001b[0mk\u001b[0m\u001b[0;34m:\u001b[0m \u001b[0mx\u001b[0m\u001b[0;34m.\u001b[0m\u001b[0m_pd\u001b[0m \u001b[0;32mif\u001b[0m \u001b[0misinstance\u001b[0m\u001b[0;34m(\u001b[0m\u001b[0mx\u001b[0m\u001b[0;34m,\u001b[0m \u001b[0mtypes\u001b[0m\u001b[0;34m)\u001b[0m \u001b[0;32melse\u001b[0m \u001b[0mx\u001b[0m \u001b[0;32mfor\u001b[0m \u001b[0;34m(\u001b[0m\u001b[0mk\u001b[0m\u001b[0;34m,\u001b[0m \u001b[0mx\u001b[0m\u001b[0;34m)\u001b[0m \u001b[0;32min\u001b[0m \u001b[0mkwargs\u001b[0m\u001b[0;34m.\u001b[0m\u001b[0mitems\u001b[0m\u001b[0;34m(\u001b[0m\u001b[0;34m)\u001b[0m\u001b[0;34m}\u001b[0m\u001b[0;34m\u001b[0m\u001b[0;34m\u001b[0m\u001b[0m\n\u001b[1;32m   1607\u001b[0m \u001b[0;34m\u001b[0m\u001b[0m\n\u001b[0;32m-> 1608\u001b[0;31m         \u001b[0ma\u001b[0m \u001b[0;34m=\u001b[0m \u001b[0mfunc\u001b[0m\u001b[0;34m(\u001b[0m\u001b[0;34m*\u001b[0m\u001b[0mvargs\u001b[0m\u001b[0;34m,\u001b[0m \u001b[0;34m**\u001b[0m\u001b[0mkwargs\u001b[0m\u001b[0;34m)\u001b[0m\u001b[0;34m\u001b[0m\u001b[0;34m\u001b[0m\u001b[0m\n\u001b[0m\u001b[1;32m   1609\u001b[0m         \u001b[0;32mif\u001b[0m \u001b[0misinstance\u001b[0m\u001b[0;34m(\u001b[0m\u001b[0ma\u001b[0m\u001b[0;34m,\u001b[0m \u001b[0mpd\u001b[0m\u001b[0;34m.\u001b[0m\u001b[0mDataFrame\u001b[0m\u001b[0;34m)\u001b[0m\u001b[0;34m:\u001b[0m\u001b[0;34m\u001b[0m\u001b[0;34m\u001b[0m\u001b[0m\n\u001b[1;32m   1610\u001b[0m             \u001b[0;32mreturn\u001b[0m \u001b[0mDataFrame\u001b[0m\u001b[0;34m(\u001b[0m\u001b[0mdata\u001b[0m\u001b[0;34m=\u001b[0m\u001b[0ma\u001b[0m\u001b[0;34m)\u001b[0m\u001b[0;34m\u001b[0m\u001b[0;34m\u001b[0m\u001b[0m\n",
            "\u001b[0;32m/opt/conda/lib/python3.9/site-packages/pandas/core/series.py\u001b[0m in \u001b[0;36mapply\u001b[0;34m(self, func, convert_dtype, args, **kwargs)\u001b[0m\n\u001b[1;32m   4769\u001b[0m         \u001b[0mdtype\u001b[0m\u001b[0;34m:\u001b[0m \u001b[0mfloat64\u001b[0m\u001b[0;34m\u001b[0m\u001b[0;34m\u001b[0m\u001b[0m\n\u001b[1;32m   4770\u001b[0m         \"\"\"\n\u001b[0;32m-> 4771\u001b[0;31m         \u001b[0;32mreturn\u001b[0m \u001b[0mSeriesApply\u001b[0m\u001b[0;34m(\u001b[0m\u001b[0mself\u001b[0m\u001b[0;34m,\u001b[0m \u001b[0mfunc\u001b[0m\u001b[0;34m,\u001b[0m \u001b[0mconvert_dtype\u001b[0m\u001b[0;34m,\u001b[0m \u001b[0margs\u001b[0m\u001b[0;34m,\u001b[0m \u001b[0mkwargs\u001b[0m\u001b[0;34m)\u001b[0m\u001b[0;34m.\u001b[0m\u001b[0mapply\u001b[0m\u001b[0;34m(\u001b[0m\u001b[0;34m)\u001b[0m\u001b[0;34m\u001b[0m\u001b[0;34m\u001b[0m\u001b[0m\n\u001b[0m\u001b[1;32m   4772\u001b[0m \u001b[0;34m\u001b[0m\u001b[0m\n\u001b[1;32m   4773\u001b[0m     def _reduce(\n",
            "\u001b[0;32m/opt/conda/lib/python3.9/site-packages/pandas/core/apply.py\u001b[0m in \u001b[0;36mapply\u001b[0;34m(self)\u001b[0m\n\u001b[1;32m   1121\u001b[0m \u001b[0;34m\u001b[0m\u001b[0m\n\u001b[1;32m   1122\u001b[0m         \u001b[0;31m# self.f is Callable\u001b[0m\u001b[0;34m\u001b[0m\u001b[0;34m\u001b[0m\u001b[0;34m\u001b[0m\u001b[0m\n\u001b[0;32m-> 1123\u001b[0;31m         \u001b[0;32mreturn\u001b[0m \u001b[0mself\u001b[0m\u001b[0;34m.\u001b[0m\u001b[0mapply_standard\u001b[0m\u001b[0;34m(\u001b[0m\u001b[0;34m)\u001b[0m\u001b[0;34m\u001b[0m\u001b[0;34m\u001b[0m\u001b[0m\n\u001b[0m\u001b[1;32m   1124\u001b[0m \u001b[0;34m\u001b[0m\u001b[0m\n\u001b[1;32m   1125\u001b[0m     \u001b[0;32mdef\u001b[0m \u001b[0magg\u001b[0m\u001b[0;34m(\u001b[0m\u001b[0mself\u001b[0m\u001b[0;34m)\u001b[0m\u001b[0;34m:\u001b[0m\u001b[0;34m\u001b[0m\u001b[0;34m\u001b[0m\u001b[0m\n",
            "\u001b[0;32m/opt/conda/lib/python3.9/site-packages/pandas/core/apply.py\u001b[0m in \u001b[0;36mapply_standard\u001b[0;34m(self)\u001b[0m\n\u001b[1;32m   1172\u001b[0m             \u001b[0;32melse\u001b[0m\u001b[0;34m:\u001b[0m\u001b[0;34m\u001b[0m\u001b[0;34m\u001b[0m\u001b[0m\n\u001b[1;32m   1173\u001b[0m                 \u001b[0mvalues\u001b[0m \u001b[0;34m=\u001b[0m \u001b[0mobj\u001b[0m\u001b[0;34m.\u001b[0m\u001b[0mastype\u001b[0m\u001b[0;34m(\u001b[0m\u001b[0mobject\u001b[0m\u001b[0;34m)\u001b[0m\u001b[0;34m.\u001b[0m\u001b[0m_values\u001b[0m\u001b[0;34m\u001b[0m\u001b[0;34m\u001b[0m\u001b[0m\n\u001b[0;32m-> 1174\u001b[0;31m                 mapped = lib.map_infer(\n\u001b[0m\u001b[1;32m   1175\u001b[0m                     \u001b[0mvalues\u001b[0m\u001b[0;34m,\u001b[0m\u001b[0;34m\u001b[0m\u001b[0;34m\u001b[0m\u001b[0m\n\u001b[1;32m   1176\u001b[0m                     \u001b[0mf\u001b[0m\u001b[0;34m,\u001b[0m\u001b[0;34m\u001b[0m\u001b[0;34m\u001b[0m\u001b[0m\n",
            "\u001b[0;32m/opt/conda/lib/python3.9/site-packages/pandas/_libs/lib.pyx\u001b[0m in \u001b[0;36mpandas._libs.lib.map_infer\u001b[0;34m()\u001b[0m\n",
            "\u001b[0;32m/tmp/ipykernel_269/3527600331.py\u001b[0m in \u001b[0;36mlabel_award\u001b[0;34m(genres)\u001b[0m\n\u001b[1;32m      5\u001b[0m             \u001b[0manime\u001b[0m\u001b[0;34m.\u001b[0m\u001b[0massign\u001b[0m\u001b[0;34m(\u001b[0m\u001b[0mlabel_award\u001b[0m\u001b[0;34m=\u001b[0m\u001b[0;34m\"Award-Winning\"\u001b[0m\u001b[0;34m)\u001b[0m\u001b[0;34m\u001b[0m\u001b[0;34m\u001b[0m\u001b[0m\n\u001b[1;32m      6\u001b[0m         \u001b[0;32melse\u001b[0m\u001b[0;34m:\u001b[0m\u001b[0;34m\u001b[0m\u001b[0;34m\u001b[0m\u001b[0m\n\u001b[0;32m----> 7\u001b[0;31m             \u001b[0manime\u001b[0m\u001b[0;34m.\u001b[0m\u001b[0massign\u001b[0m\u001b[0;34m(\u001b[0m\u001b[0mlabel_award\u001b[0m\u001b[0;34m=\u001b[0m\u001b[0;34m\"No Award\"\u001b[0m\u001b[0;34m)\u001b[0m\u001b[0;34m\u001b[0m\u001b[0;34m\u001b[0m\u001b[0m\n\u001b[0m\u001b[1;32m      8\u001b[0m \u001b[0;34m\u001b[0m\u001b[0m\n\u001b[1;32m      9\u001b[0m \u001b[0manime_labeled\u001b[0m \u001b[0;34m=\u001b[0m \u001b[0manime\u001b[0m\u001b[0;34m.\u001b[0m\u001b[0mget\u001b[0m\u001b[0;34m(\u001b[0m\u001b[0;34m\"Genres\"\u001b[0m\u001b[0;34m)\u001b[0m\u001b[0;34m.\u001b[0m\u001b[0mapply\u001b[0m\u001b[0;34m(\u001b[0m\u001b[0mlabel_award\u001b[0m\u001b[0;34m)\u001b[0m\u001b[0;34m\u001b[0m\u001b[0;34m\u001b[0m\u001b[0m\n",
            "\u001b[0;32m/opt/conda/lib/python3.9/site-packages/babypandas/utils.py\u001b[0m in \u001b[0;36mwrapper\u001b[0;34m(*args, **kwargs)\u001b[0m\n\u001b[1;32m     18\u001b[0m         \u001b[0;32mwith\u001b[0m \u001b[0mwarnings\u001b[0m\u001b[0;34m.\u001b[0m\u001b[0mcatch_warnings\u001b[0m\u001b[0;34m(\u001b[0m\u001b[0;34m)\u001b[0m\u001b[0;34m:\u001b[0m\u001b[0;34m\u001b[0m\u001b[0;34m\u001b[0m\u001b[0m\n\u001b[1;32m     19\u001b[0m             \u001b[0mwarnings\u001b[0m\u001b[0;34m.\u001b[0m\u001b[0msimplefilter\u001b[0m\u001b[0;34m(\u001b[0m\u001b[0;34m\"ignore\"\u001b[0m\u001b[0;34m)\u001b[0m\u001b[0;34m\u001b[0m\u001b[0;34m\u001b[0m\u001b[0m\n\u001b[0;32m---> 20\u001b[0;31m             \u001b[0;32mreturn\u001b[0m \u001b[0mfunc\u001b[0m\u001b[0;34m(\u001b[0m\u001b[0;34m*\u001b[0m\u001b[0margs\u001b[0m\u001b[0;34m,\u001b[0m \u001b[0;34m**\u001b[0m\u001b[0mkwargs\u001b[0m\u001b[0;34m)\u001b[0m\u001b[0;34m\u001b[0m\u001b[0;34m\u001b[0m\u001b[0m\n\u001b[0m\u001b[1;32m     21\u001b[0m \u001b[0;34m\u001b[0m\u001b[0m\n\u001b[1;32m     22\u001b[0m     \u001b[0;32mreturn\u001b[0m \u001b[0mwrapper\u001b[0m\u001b[0;34m\u001b[0m\u001b[0;34m\u001b[0m\u001b[0m\n",
            "\u001b[0;32m/opt/conda/lib/python3.9/site-packages/babypandas/bpd.py\u001b[0m in \u001b[0;36massign\u001b[0;34m(self, **kwargs)\u001b[0m\n\u001b[1;32m    371\u001b[0m         \u001b[0;32mif\u001b[0m \u001b[0mself\u001b[0m\u001b[0;34m.\u001b[0m\u001b[0m_pd\u001b[0m\u001b[0;34m.\u001b[0m\u001b[0mshape\u001b[0m\u001b[0;34m[\u001b[0m\u001b[0;36m1\u001b[0m\u001b[0;34m]\u001b[0m \u001b[0;34m!=\u001b[0m \u001b[0;36m0\u001b[0m\u001b[0;34m:\u001b[0m\u001b[0;34m\u001b[0m\u001b[0;34m\u001b[0m\u001b[0m\n\u001b[1;32m    372\u001b[0m             \u001b[0;32mif\u001b[0m \u001b[0mlen\u001b[0m\u001b[0;34m(\u001b[0m\u001b[0mlist\u001b[0m\u001b[0;34m(\u001b[0m\u001b[0mkwargs\u001b[0m\u001b[0;34m.\u001b[0m\u001b[0mvalues\u001b[0m\u001b[0;34m(\u001b[0m\u001b[0;34m)\u001b[0m\u001b[0;34m)\u001b[0m\u001b[0;34m[\u001b[0m\u001b[0;36m0\u001b[0m\u001b[0;34m]\u001b[0m\u001b[0;34m)\u001b[0m \u001b[0;34m!=\u001b[0m \u001b[0mself\u001b[0m\u001b[0;34m.\u001b[0m\u001b[0m_pd\u001b[0m\u001b[0;34m.\u001b[0m\u001b[0mshape\u001b[0m\u001b[0;34m[\u001b[0m\u001b[0;36m0\u001b[0m\u001b[0;34m]\u001b[0m\u001b[0;34m:\u001b[0m\u001b[0;34m\u001b[0m\u001b[0;34m\u001b[0m\u001b[0m\n\u001b[0;32m--> 373\u001b[0;31m                 raise ValueError(\n\u001b[0m\u001b[1;32m    374\u001b[0m                     \u001b[0;34m\"New column does not have the same length as existing DataFrame\"\u001b[0m\u001b[0;34m\u001b[0m\u001b[0;34m\u001b[0m\u001b[0m\n\u001b[1;32m    375\u001b[0m                 )\n",
            "\u001b[0;31mValueError\u001b[0m: New column does not have the same length as existing DataFrame"
          ]
        }
      ],
      "source": [
        "def label_award(genres):\n",
        "    genre_per_show = (genres).split(', ')\n",
        "    bpd.Series\n",
        "    for i in genre_per_show:\n",
        "        if (i) == \"Award-Winning\":\n",
        "            np.append(,\"Award-Winning\")\n",
        "        else:\n",
        "            np.append(label_award=\"No Award\")\n",
        "    return todo_merge = (\n",
        "    bpd.DataFrame()\n",
        "    .assign(\n",
        "        City=['Fresno', 'LA', 'SD', 'SF', 'SJ']\n",
        "\n",
        "        )\n",
        ")\n",
        "\n",
        "anime_labeled = anime.get(\"Genres\").apply(label_award)\n",
        "anime_labeled"
      ]
    },
    {
      "cell_type": "code",
      "execution_count": null,
      "metadata": {
        "id": "0W0pYApDcicK"
      },
      "outputs": [],
      "source": [
        "empty = (\n",
        "    bpd.DataFrame()\n",
        "    .assign(\n",
        "        City=['Fresno', 'LA', 'SD', 'SF', 'SJ']\n",
        "        )\n",
        ")"
      ]
    },
    {
      "cell_type": "code",
      "execution_count": null,
      "metadata": {
        "deletable": false,
        "editable": false,
        "id": "IoZR54GucicK",
        "outputId": "f837e9f6-3252-405d-8ab5-198d85c27c79"
      },
      "outputs": [
        {
          "data": {
            "text/html": [
              "<p><strong style='color: red;'><pre style='display: inline;'>q3_1</pre> results:</strong></p><p><strong><pre style='display: inline;'>q3_1 - 1</pre> result:</strong></p><pre>    Trying:\n",
              "        anime_labeled.shape == (11440, 7)\n",
              "    Expecting:\n",
              "        True\n",
              "    **********************************************************************\n",
              "    Line 1, in q3_1 0\n",
              "    Failed example:\n",
              "        anime_labeled.shape == (11440, 7)\n",
              "    Expected:\n",
              "        True\n",
              "    Got:\n",
              "        False\n",
              "</pre><p><strong><pre style='display: inline;'>q3_1 - 2</pre> result:</strong></p><pre>    Trying:\n",
              "        list(anime_labeled.columns) == ['Name', 'English name', 'Episodes', 'Aired', 'Genres', 'Score', 'Award_Status'] # Name the new column 'Award_Status'\n",
              "    Expecting:\n",
              "        True\n",
              "    **********************************************************************\n",
              "    Line 1, in q3_1 1\n",
              "    Failed example:\n",
              "        list(anime_labeled.columns) == ['Name', 'English name', 'Episodes', 'Aired', 'Genres', 'Score', 'Award_Status'] # Name the new column 'Award_Status'\n",
              "    Exception raised:\n",
              "        Traceback (most recent call last):\n",
              "          File \"/opt/conda/lib/python3.9/doctest.py\", line 1336, in __run\n",
              "            exec(compile(example.source, filename, \"single\",\n",
              "          File \"<doctest q3_1 1[0]>\", line 1, in <module>\n",
              "            list(anime_labeled.columns) == ['Name', 'English name', 'Episodes', 'Aired', 'Genres', 'Score', 'Award_Status'] # Name the new column 'Award_Status'\n",
              "        AttributeError: 'Series' object has no attribute 'columns'\n",
              "</pre><p><strong><pre style='display: inline;'>q3_1 - 3</pre> result:</strong></p><pre>    Trying:\n",
              "        np.all(anime_labeled.get('Award_Status').unique() == np.array(['Award-Winning', 'No Award']))  # Make sure the new column's values are either `Award-Winning` or `No Award`\n",
              "    Expecting:\n",
              "        True\n",
              "    **********************************************************************\n",
              "    Line 1, in q3_1 2\n",
              "    Failed example:\n",
              "        np.all(anime_labeled.get('Award_Status').unique() == np.array(['Award-Winning', 'No Award']))  # Make sure the new column's values are either `Award-Winning` or `No Award`\n",
              "    Exception raised:\n",
              "        Traceback (most recent call last):\n",
              "          File \"/opt/conda/lib/python3.9/doctest.py\", line 1336, in __run\n",
              "            exec(compile(example.source, filename, \"single\",\n",
              "          File \"<doctest q3_1 2[0]>\", line 1, in <module>\n",
              "            np.all(anime_labeled.get('Award_Status').unique() == np.array(['Award-Winning', 'No Award']))  # Make sure the new column's values are either `Award-Winning` or `No Award`\n",
              "        AttributeError: 'NoneType' object has no attribute 'unique'\n",
              "</pre>"
            ],
            "text/plain": [
              "q3_1 results:\n",
              "    q3_1 - 1 result:\n",
              "        Trying:\n",
              "            anime_labeled.shape == (11440, 7)\n",
              "        Expecting:\n",
              "            True\n",
              "        **********************************************************************\n",
              "        Line 1, in q3_1 0\n",
              "        Failed example:\n",
              "            anime_labeled.shape == (11440, 7)\n",
              "        Expected:\n",
              "            True\n",
              "        Got:\n",
              "            False\n",
              "\n",
              "    q3_1 - 2 result:\n",
              "        Trying:\n",
              "            list(anime_labeled.columns) == ['Name', 'English name', 'Episodes', 'Aired', 'Genres', 'Score', 'Award_Status'] # Name the new column 'Award_Status'\n",
              "        Expecting:\n",
              "            True\n",
              "        **********************************************************************\n",
              "        Line 1, in q3_1 1\n",
              "        Failed example:\n",
              "            list(anime_labeled.columns) == ['Name', 'English name', 'Episodes', 'Aired', 'Genres', 'Score', 'Award_Status'] # Name the new column 'Award_Status'\n",
              "        Exception raised:\n",
              "            Traceback (most recent call last):\n",
              "              File \"/opt/conda/lib/python3.9/doctest.py\", line 1336, in __run\n",
              "                exec(compile(example.source, filename, \"single\",\n",
              "              File \"<doctest q3_1 1[0]>\", line 1, in <module>\n",
              "                list(anime_labeled.columns) == ['Name', 'English name', 'Episodes', 'Aired', 'Genres', 'Score', 'Award_Status'] # Name the new column 'Award_Status'\n",
              "            AttributeError: 'Series' object has no attribute 'columns'\n",
              "\n",
              "    q3_1 - 3 result:\n",
              "        Trying:\n",
              "            np.all(anime_labeled.get('Award_Status').unique() == np.array(['Award-Winning', 'No Award']))  # Make sure the new column's values are either `Award-Winning` or `No Award`\n",
              "        Expecting:\n",
              "            True\n",
              "        **********************************************************************\n",
              "        Line 1, in q3_1 2\n",
              "        Failed example:\n",
              "            np.all(anime_labeled.get('Award_Status').unique() == np.array(['Award-Winning', 'No Award']))  # Make sure the new column's values are either `Award-Winning` or `No Award`\n",
              "        Exception raised:\n",
              "            Traceback (most recent call last):\n",
              "              File \"/opt/conda/lib/python3.9/doctest.py\", line 1336, in __run\n",
              "                exec(compile(example.source, filename, \"single\",\n",
              "              File \"<doctest q3_1 2[0]>\", line 1, in <module>\n",
              "                np.all(anime_labeled.get('Award_Status').unique() == np.array(['Award-Winning', 'No Award']))  # Make sure the new column's values are either `Award-Winning` or `No Award`\n",
              "            AttributeError: 'NoneType' object has no attribute 'unique'"
            ]
          },
          "execution_count": 212,
          "metadata": {},
          "output_type": "execute_result"
        }
      ],
      "source": [
        "grader.check(\"q3_1\")"
      ]
    },
    {
      "cell_type": "markdown",
      "metadata": {
        "id": "m9nSn9NScicL"
      },
      "source": [
        "**Question 3.2.** Using the DataFrame `anime_labeled`, calculate the difference between the **mean** `'Score'` of award-winning animes and non-winning animes. Assign your answer to `observed_difference`.\n",
        "\n",
        "$$\\text{observed difference} = \\text{mean award-winning anime score} - \\text{mean non-winning anime score}$$"
      ]
    },
    {
      "cell_type": "code",
      "execution_count": null,
      "metadata": {
        "scrolled": true,
        "id": "eoUiAMJzcicM"
      },
      "outputs": [],
      "source": [
        "observed_difference = ...\n",
        "observed_difference"
      ]
    },
    {
      "cell_type": "code",
      "execution_count": null,
      "metadata": {
        "deletable": false,
        "editable": false,
        "id": "BY5fxVpdcicM"
      },
      "outputs": [],
      "source": [
        "grader.check(\"q3_2\")"
      ]
    },
    {
      "cell_type": "markdown",
      "metadata": {
        "id": "07eP8HYmcicN"
      },
      "source": [
        "**Question 3.3.** What does the number you obtained for `observed_difference` mean? Assign `interpretation` to 1, 2, 3, or 4, corresponding to the best explanation below."
      ]
    },
    {
      "cell_type": "markdown",
      "metadata": {
        "id": "Sl1tFG4ccicN"
      },
      "source": [
        "1. In our sample, the mean award-winning anime score is higher than the mean non-winning anime score by about 82 percent.\n",
        "1. In our sample, the mean award-winning anime score is higher than the mean non-winning anime score by about 0.82 percent.\n",
        "1. In our sample, the mean award-winning anime score is higher than the mean non-winning anime score by about 0.82 points.\n",
        "1. In our sample, the mean non-winning anime score is higher than the mean award-winning anime score by about 82 percent.\n",
        "1. In our sample, the mean non-winning anime score is higher than the mean award-winning anime score by about 0.82 percent.\n",
        "1. In our sample, the mean non-winning anime score is higher than the mean award-winning anime score by about 0.82 points."
      ]
    },
    {
      "cell_type": "code",
      "execution_count": null,
      "metadata": {
        "id": "DIrhAVe-cicN"
      },
      "outputs": [],
      "source": [
        "interpretation = ..."
      ]
    },
    {
      "cell_type": "code",
      "execution_count": null,
      "metadata": {
        "deletable": false,
        "editable": false,
        "id": "MFFn6OpAcicO"
      },
      "outputs": [],
      "source": [
        "grader.check(\"q3_3\")"
      ]
    },
    {
      "cell_type": "markdown",
      "metadata": {
        "deletable": false,
        "editable": false,
        "id": "5SyJCByfcicO"
      },
      "source": [
        "Now we want to conduct a **permutation test** to see if it is by chance that the average score for award-winning animes is higher than the average score of non-winning animes in our sample, or if award-winning animes actually have a higher score on average than non-winning animes.\n",
        "\n",
        "- **Null Hypothesis**: The scores of award-winning animes and non-winning animes come from the same distribution.  \n",
        "- **Alternative Hypothesis**: The scores of award-winning animes are higher on average than the scores of non-winning animes.\n",
        "\n",
        "**Question 3.4.** Assign `reduced_df` to a DataFrame with only two columns, `'Award_Status'` and `'Score'`, since these are the only relevant columns in `anime_labeled` for this permutation test.\n",
        "\n",
        "<!--\n",
        "BEGIN QUESTION\n",
        "name: q3_4\n",
        "-->"
      ]
    },
    {
      "cell_type": "code",
      "execution_count": null,
      "metadata": {
        "id": "PlLSzBYFcicP"
      },
      "outputs": [],
      "source": [
        "reduced_df = ...\n",
        "reduced_df"
      ]
    },
    {
      "cell_type": "code",
      "execution_count": null,
      "metadata": {
        "deletable": false,
        "editable": false,
        "id": "fshKU2FHcicP"
      },
      "outputs": [],
      "source": [
        "grader.check(\"q3_4\")"
      ]
    },
    {
      "cell_type": "markdown",
      "metadata": {
        "id": "HUznkDLRcicQ"
      },
      "source": [
        "**Question 3.5.** Run a permutation test to see if the `observed_difference` is a statistically significant difference. To run this permutation test, simulate 1000 values of the test statistic. For each test statistic, shuffle the `'Award_Status'` column of `reduced_df` and calculate the difference in mean score (award-winning minus non-winning). Store your 1000 differences in the `differences` array. Be sure not to shuffle the `'Score'` column.\n",
        "\n",
        "***Hint:*** It's a good idea to simulate one value of the test statistic before putting everything in a for-loop."
      ]
    },
    {
      "cell_type": "code",
      "execution_count": null,
      "metadata": {
        "id": "_7MPARadcicQ"
      },
      "outputs": [],
      "source": [
        "differences = ...\n",
        "\n",
        "# Just display the first ten differences.\n",
        "differences[:10]"
      ]
    },
    {
      "cell_type": "code",
      "execution_count": null,
      "metadata": {
        "deletable": false,
        "editable": false,
        "id": "MqGXkMFPcicQ"
      },
      "outputs": [],
      "source": [
        "grader.check(\"q3_5\")"
      ]
    },
    {
      "cell_type": "markdown",
      "metadata": {
        "id": "MQazS2KBcicR"
      },
      "source": [
        "**Question 3.6.** Compute a p-value for this hypothesis test and assign your answer to `anime_p`. To decide whether to use `<=` or `>=` in the calculation of the p-value, think about whether larger values or smaller values of our test statistic favor the alternative hypothesis."
      ]
    },
    {
      "cell_type": "code",
      "execution_count": null,
      "metadata": {
        "id": "sutcI1CHcicR"
      },
      "outputs": [],
      "source": [
        "anime_p = ...\n",
        "anime_p"
      ]
    },
    {
      "cell_type": "code",
      "execution_count": null,
      "metadata": {
        "deletable": false,
        "editable": false,
        "id": "CNMlc0fZcicS"
      },
      "outputs": [],
      "source": [
        "grader.check(\"q3_6\")"
      ]
    },
    {
      "cell_type": "markdown",
      "metadata": {
        "id": "hFoJYHkZcicS"
      },
      "source": [
        "**Question 3.7.** Assign the variable `anime_conclusion` to a **list** of all the true statements below."
      ]
    },
    {
      "cell_type": "markdown",
      "metadata": {
        "id": "pT8pJjOlcicT"
      },
      "source": [
        "1. We accept the null hypothesis at the 0.01 significance level.\n",
        "1. We reject the null hypothesis at the 0.01 significance level.\n",
        "1. We fail to reject the null hypothesis at the 0.01 significance level.\n",
        "1. We accept the null hypothesis at the 0.05 significance level.\n",
        "1. We reject the null hypothesis at the 0.05 significance level.\n",
        "1. We fail to reject the null hypothesis at the 0.05 significance level."
      ]
    },
    {
      "cell_type": "code",
      "execution_count": null,
      "metadata": {
        "id": "ktLlE6HlcicT"
      },
      "outputs": [],
      "source": [
        "anime_conclusion = ..."
      ]
    },
    {
      "cell_type": "code",
      "execution_count": null,
      "metadata": {
        "deletable": false,
        "editable": false,
        "id": "u7DIuOhzcicT"
      },
      "outputs": [],
      "source": [
        "grader.check(\"q3_7\")"
      ]
    },
    {
      "cell_type": "markdown",
      "metadata": {
        "id": "ear2oGz5cicT"
      },
      "source": [
        "**Question 3.8.** Suppose in this question you had shuffled the `'Score'` column instead and kept the `'Award_Status'` column in the same order. Assign `shuffled_score` to either 1, 2, 3, or 4, corresponding to the true statement below.\n",
        "\n",
        "\n",
        "1. The new p-value from shuffling `'Score'` would be $1 - p$, where $p$ is the old p-value from shuffling `'Award_Status'` (i.e. your answer to Question 3.6).\n",
        "1. We would need to change our null hypothesis in order to shuffle the `'Score'` column.\n",
        "1. There would be no difference in the conclusion of the test if we had shuffled the `'Score'` column instead.\n",
        "1. The `'Score'` column cannot be shuffled because it contains numbers."
      ]
    },
    {
      "cell_type": "code",
      "execution_count": null,
      "metadata": {
        "id": "rszOEE75cicU"
      },
      "outputs": [],
      "source": [
        "shuffled_score = ..."
      ]
    },
    {
      "cell_type": "code",
      "execution_count": null,
      "metadata": {
        "deletable": false,
        "editable": false,
        "id": "PdUfFxx4cicU"
      },
      "outputs": [],
      "source": [
        "grader.check(\"q3_8\")"
      ]
    },
    {
      "cell_type": "markdown",
      "metadata": {
        "id": "Ijg-DDN9cicU"
      },
      "source": [
        "**Question 3.9.** Which of the following choices best describes the purpose of shuffling one of the columns in our dataset in a permutation test? Assign `why_shuffle` to either 1, 2, 3, or 4, corresponding to the true statement below.\n",
        "\n",
        "1. Shuffling mitigates noise in our data by generating new permutations of the data.\n",
        "1. Shuffling is a special case of bootstrapping and allows us to produce interval estimates.\n",
        "1. Shuffling allows us to generate new data under the null hypothesis, which we can use in testing our hypothesis.\n",
        "1. Shuffling allows us to generate new data under the alternative hypothesis, which helps us identify when the data come from different distributions."
      ]
    },
    {
      "cell_type": "code",
      "execution_count": null,
      "metadata": {
        "id": "TBJlmULycicV"
      },
      "outputs": [],
      "source": [
        "why_shuffle = ..."
      ]
    },
    {
      "cell_type": "code",
      "execution_count": null,
      "metadata": {
        "deletable": false,
        "editable": false,
        "id": "5qMffW9AcicV"
      },
      "outputs": [],
      "source": [
        "grader.check(\"q3_9\")"
      ]
    },
    {
      "cell_type": "markdown",
      "metadata": {
        "id": "1yrAQeANcicV"
      },
      "source": [
        "## 4. New York Times Mini Crossword 🧩🕐\n",
        "<img src='images/nyt_mini_crossword.png' width='500'>"
      ]
    },
    {
      "cell_type": "markdown",
      "metadata": {
        "id": "wHH5suqYcicW"
      },
      "source": [
        "[The New York Times Mini Crossword](https://www.nytimes.com/crosswords/game/mini) is a smaller and quicker version of the traditional crossword puzzle. It features straightforward clues and is designed to be completed in a few minutes. After completeing the puzzle, players have the option to send the time it took to complete the puzzle to their friends, to try to compete for the lowest time.\n",
        "\n",
        "Ciro and Athu have been playing the New York Times Mini Crossword for a couple months, often sending each other the time it takes for them to complete each puzzle. Today, Ciro's time was much faster than Athu's so he bragged that he is better than Athu at the game. Athu vehemently disagrees and thinks that they are equally skilled.\n",
        "\n",
        "Since the two of them have learned about hypothesis testing in DSC10, they decided to look at their history of times to determine if they were equally skilled or if one of them was better than the other.\n",
        "\n",
        "Let's look at all the data that they collected. Each entry in the `'Time'` column represents the amount of time it took in seconds for one person to complete the New York Times Mini Crossword on a single day. There are 40 times for Ciro and 40 times for Athu."
      ]
    },
    {
      "cell_type": "code",
      "execution_count": null,
      "metadata": {
        "id": "6jL2O7bxcicW",
        "outputId": "8478a565-e3fd-43ee-b7e8-8d3d1d82e2f7"
      },
      "outputs": [
        {
          "data": {
            "text/html": [
              "<div>\n",
              "<style scoped>\n",
              "    .dataframe tbody tr th:only-of-type {\n",
              "        vertical-align: middle;\n",
              "    }\n",
              "\n",
              "    .dataframe tbody tr th {\n",
              "        vertical-align: top;\n",
              "    }\n",
              "\n",
              "    .dataframe thead th {\n",
              "        text-align: right;\n",
              "    }\n",
              "</style>\n",
              "<table border=\"1\" class=\"dataframe\">\n",
              "  <thead>\n",
              "    <tr style=\"text-align: right;\">\n",
              "      <th></th>\n",
              "      <th>Name</th>\n",
              "      <th>Time</th>\n",
              "    </tr>\n",
              "  </thead>\n",
              "  <tbody>\n",
              "    <tr>\n",
              "      <th>0</th>\n",
              "      <td>Ciro</td>\n",
              "      <td>103</td>\n",
              "    </tr>\n",
              "    <tr>\n",
              "      <th>1</th>\n",
              "      <td>Athu</td>\n",
              "      <td>51</td>\n",
              "    </tr>\n",
              "    <tr>\n",
              "      <th>2</th>\n",
              "      <td>Ciro</td>\n",
              "      <td>76</td>\n",
              "    </tr>\n",
              "    <tr>\n",
              "      <th>3</th>\n",
              "      <td>Athu</td>\n",
              "      <td>153</td>\n",
              "    </tr>\n",
              "    <tr>\n",
              "      <th>4</th>\n",
              "      <td>Ciro</td>\n",
              "      <td>85</td>\n",
              "    </tr>\n",
              "    <tr>\n",
              "      <th>...</th>\n",
              "      <td>...</td>\n",
              "      <td>...</td>\n",
              "    </tr>\n",
              "    <tr>\n",
              "      <th>75</th>\n",
              "      <td>Athu</td>\n",
              "      <td>116</td>\n",
              "    </tr>\n",
              "    <tr>\n",
              "      <th>76</th>\n",
              "      <td>Ciro</td>\n",
              "      <td>111</td>\n",
              "    </tr>\n",
              "    <tr>\n",
              "      <th>77</th>\n",
              "      <td>Athu</td>\n",
              "      <td>89</td>\n",
              "    </tr>\n",
              "    <tr>\n",
              "      <th>78</th>\n",
              "      <td>Ciro</td>\n",
              "      <td>102</td>\n",
              "    </tr>\n",
              "    <tr>\n",
              "      <th>79</th>\n",
              "      <td>Athu</td>\n",
              "      <td>113</td>\n",
              "    </tr>\n",
              "  </tbody>\n",
              "</table>\n",
              "<p>80 rows × 2 columns</p>\n",
              "</div>"
            ],
            "text/plain": [
              "    Name  Time\n",
              "0   Ciro   103\n",
              "1   Athu    51\n",
              "2   Ciro    76\n",
              "3   Athu   153\n",
              "4   Ciro    85\n",
              "..   ...   ...\n",
              "75  Athu   116\n",
              "76  Ciro   111\n",
              "77  Athu    89\n",
              "78  Ciro   102\n",
              "79  Athu   113\n",
              "\n",
              "[80 rows x 2 columns]"
            ]
          },
          "execution_count": 147,
          "metadata": {},
          "output_type": "execute_result"
        }
      ],
      "source": [
        "mini_cw = bpd.read_csv('data/mini-crossword.csv')\n",
        "mini_cw"
      ]
    },
    {
      "cell_type": "code",
      "execution_count": null,
      "metadata": {
        "id": "waK_9NRUcicW",
        "outputId": "1b82baa1-513e-4ceb-bc33-281e4330c85e"
      },
      "outputs": [
        {
          "data": {
            "text/plain": [
              "81.325"
            ]
          },
          "execution_count": 148,
          "metadata": {},
          "output_type": "execute_result"
        }
      ],
      "source": []
    },
    {
      "cell_type": "markdown",
      "metadata": {
        "id": "gMCanXwFcicX"
      },
      "source": [
        "**Question 4.1.** Now let's address the question: how does the average time for Ciro to complete the crossword compare to Athu's average time? Create a DataFrame called `ciro` that contains only the times for Ciro, and set `ciro_mean` to the mean time to complete the crossword for Ciro. Similarly, create a DataFrame `athu` for Athu and compute `athu_mean`. Finally, set `observed_diff_mean`, to the difference in mean times to complete the crossword in our sample, computed as follows.\n",
        "\n",
        "$$\\text{difference} = \\text{mean time to complete the crossword for Ciro} - \\text{mean time to complete the crossword for Athu}$$\n"
      ]
    },
    {
      "cell_type": "code",
      "execution_count": null,
      "metadata": {
        "id": "yDLxPA7xcicX",
        "outputId": "6efdc754-021f-4394-c883-bc26c34e1a48"
      },
      "outputs": [
        {
          "data": {
            "text/plain": [
              "-28.25"
            ]
          },
          "execution_count": 149,
          "metadata": {},
          "output_type": "execute_result"
        }
      ],
      "source": [
        "ciro = mini_cw[mini_cw.get(\"Name\") == \"Ciro\"]\n",
        "athu = mini_cw[mini_cw.get(\"Name\") == \"Athu\"]\n",
        "ciro_mean = ciro.get(\"Time\").mean()\n",
        "athu_mean = athu.get(\"Time\").mean()\n",
        "observed_diff_mean = ciro_mean - athu_mean\n",
        "observed_diff_mean"
      ]
    },
    {
      "cell_type": "code",
      "execution_count": null,
      "metadata": {
        "deletable": false,
        "editable": false,
        "id": "hATG5_4vcicY",
        "outputId": "03c07a51-a9f5-4425-eeea-548bd679e612"
      },
      "outputs": [
        {
          "data": {
            "text/html": [
              "<p><strong><pre style='display: inline;'>q4_1</pre></strong> passed!</p>"
            ],
            "text/plain": [
              "q4_1 results: All test cases passed!"
            ]
          },
          "execution_count": 150,
          "metadata": {},
          "output_type": "execute_result"
        }
      ],
      "source": [
        "grader.check(\"q4_1\")"
      ]
    },
    {
      "cell_type": "markdown",
      "metadata": {
        "id": "xQkWQy8LcicY"
      },
      "source": [
        "If you answered Question 4.1 correctly, you should have noticed a difference in the average times between Ciro and Athu. But we only have a small sample of their performance on the Mini Crossword, so it's possible that this difference is merely a result of the specific samples we happened to collect. Let's do a **hypothesis test** to find out if there's actually a difference in their abilities. We'll state our hypotheses as follows:\n",
        "\n",
        "- **Null Hypothesis**: The average time it takes to complete the New York Times Mini Crossword is the same for both Ciro and Athu. In other words, their difference in average time is equal to 0 seconds.\n",
        "\n",
        "- **Alternative Hypothesis**: The average time it takes to complete the New York Times Mini Crossword is not the same for both Ciro and Athu. In other words, the difference in average time between the two of them is not equal to 0 seconds.\n",
        "\n",
        "\n",
        "Since we are able to frame our hypothesis test as a question of whether a certain population parameter – the difference in average times – is equal to a specific value, we can **test our hypotheses by constructing a confidence interval** for this parameter. For a refresher on this method, refer to [CIT 13.4](https://inferentialthinking.com/chapters/13/4/Using_Confidence_Intervals.html) or the human body temperature example from [Lecture 22](https://dsc10.com/resources/lectures/lec22/lec22.html).\n",
        "\n",
        "***Note:*** We are **not** conducting a permutation test here, although that would also be a valid approach to test these hypotheses."
      ]
    },
    {
      "cell_type": "markdown",
      "metadata": {
        "id": "msjTwCTacicZ"
      },
      "source": [
        "**Question 4.2.** Compute 1000 **bootstrapped estimates** for the difference in average times between Ciro and Athu. As in Question 4.1, calculate the difference as Ciro minus Athu. Store your 1000 estimates in the `difference_means` array.\n",
        "\n",
        "You should generate your Ciro resamples by sampling from `ciro`, and your Athu resamples by sampling from `athu`. Do not use the combined dataset `mini_cw` for this task, otherwise you might not wind up with 40 of each!"
      ]
    },
    {
      "cell_type": "raw",
      "metadata": {
        "id": "edbKb7qJcicZ"
      },
      "source": [
        "ciro.sample(500, replace = True).get('Time').mean() - \\\n",
        "athu.sample(500, replace = True).get('Time').mean()"
      ]
    },
    {
      "cell_type": "code",
      "execution_count": null,
      "metadata": {
        "id": "AvKWp4oqcicZ",
        "outputId": "2a2699db-5616-458e-e3b5-3dd9eee3a1d1"
      },
      "outputs": [
        {
          "data": {
            "text/plain": [
              "array([-26.486, -26.926, -29.498, -28.948, -27.086, -27.492, -25.236,\n",
              "       -28.898, -28.02 , -29.056])"
            ]
          },
          "execution_count": 163,
          "metadata": {},
          "output_type": "execute_result"
        }
      ],
      "source": [
        "difference_means = np.array([])\n",
        "\n",
        "for i in np.arange(1000):\n",
        "    means = ciro.sample(500, replace = True).get('Time').mean() - \\\n",
        "            athu.sample(500, replace = True).get('Time').mean()\n",
        "    difference_means = np.append(difference_means, means)\n",
        "\n",
        "# Just display the first ten differences.\n",
        "difference_means[:10]"
      ]
    },
    {
      "cell_type": "code",
      "execution_count": null,
      "metadata": {
        "deletable": false,
        "editable": false,
        "id": "pYjXSGUZcica",
        "outputId": "9b812e2f-6196-465a-fb60-ba50ded907ef"
      },
      "outputs": [
        {
          "data": {
            "text/html": [
              "<p><strong><pre style='display: inline;'>q4_2</pre></strong> passed!</p>"
            ],
            "text/plain": [
              "q4_2 results: All test cases passed!"
            ]
          },
          "execution_count": 164,
          "metadata": {},
          "output_type": "execute_result"
        }
      ],
      "source": [
        "grader.check(\"q4_2\")"
      ]
    },
    {
      "cell_type": "markdown",
      "metadata": {
        "id": "KHSkAMx6cica"
      },
      "source": [
        "Let's visualize your estimates:"
      ]
    },
    {
      "cell_type": "code",
      "execution_count": null,
      "metadata": {
        "id": "3DdhfcMKcicb",
        "outputId": "89eba727-1fea-48de-de59-89a2cf0ba5bd"
      },
      "outputs": [
        {
          "data": {
            "image/png": "[encoded data removed]",
            "text/plain": [
              "<Figure size 720x360 with 1 Axes>"
            ]
          },
          "metadata": {},
          "output_type": "display_data"
        }
      ],
      "source": [
        "bpd.DataFrame().assign(BootstrappedDifferenceMeans = difference_means).plot(kind = 'hist', density=True, ec='w', bins=20, figsize=(10, 5));"
      ]
    },
    {
      "cell_type": "markdown",
      "metadata": {
        "id": "F5Mb7gs3cicb"
      },
      "source": [
        "**Question 4.3.** Compute a 95% confidence interval for the difference in mean times (as before, in the order Ciro minus Athu). Assign the left and right endpoints of this confidence interval to `left_endpoint` and `right_endpoint` respectively."
      ]
    },
    {
      "cell_type": "code",
      "execution_count": null,
      "metadata": {
        "id": "uizidQjOcicb",
        "outputId": "bf3e881d-194e-4097-d04d-efc3aa464596"
      },
      "outputs": [
        {
          "name": "stdout",
          "output_type": "stream",
          "text": [
            "Bootstrapped 95% confidence interval for the mean difference in time to complete the crossword for Ciro and Athu:\n",
            " [-29.910121, -26.518227]\n"
          ]
        }
      ],
      "source": [
        "left_endpoint = difference_means.mean() - difference_means.std()\n",
        "right_endpoint = difference_means.mean() + difference_means.std()\n",
        "\n",
        "print('Bootstrapped 95% confidence interval for the mean difference in time to complete the crossword for Ciro and Athu:\\n [{:f}, {:f}]'.format(left_endpoint, right_endpoint))"
      ]
    },
    {
      "cell_type": "code",
      "execution_count": null,
      "metadata": {
        "deletable": false,
        "editable": false,
        "id": "6lgcqPmscicc",
        "outputId": "ba934ce5-f9cd-47b8-9089-6e5980ec506a"
      },
      "outputs": [
        {
          "data": {
            "text/html": [
              "<p><strong><pre style='display: inline;'>q4_3</pre></strong> passed!</p>"
            ],
            "text/plain": [
              "q4_3 results: All test cases passed!"
            ]
          },
          "execution_count": 167,
          "metadata": {},
          "output_type": "execute_result"
        }
      ],
      "source": [
        "grader.check(\"q4_3\")"
      ]
    },
    {
      "cell_type": "markdown",
      "metadata": {
        "id": "LZmQIkOecicd"
      },
      "source": [
        "**Question 4.4.** Based on the confidence interval you've created, would you reject the null hypothesis at the 0.05 significance level? Set `reject_null` to True if you would reject the null hypothesis, and False if you would not."
      ]
    },
    {
      "cell_type": "markdown",
      "metadata": {
        "id": "zujaQ5o5cicd"
      },
      "source": [
        "<h1>TUITION the difference is time was attributedd to RANDOMNESS not chance"
      ]
    },
    {
      "cell_type": "code",
      "execution_count": null,
      "metadata": {
        "id": "OyXTNn8kcicd"
      },
      "outputs": [],
      "source": [
        "reject_null = False"
      ]
    },
    {
      "cell_type": "code",
      "execution_count": null,
      "metadata": {
        "deletable": false,
        "editable": false,
        "id": "y805GbuDcice",
        "outputId": "5a9a9557-22dc-4c31-aeb5-341b3601aa6e"
      },
      "outputs": [
        {
          "data": {
            "text/html": [
              "<p><strong><pre style='display: inline;'>q4_4</pre></strong> passed!</p>"
            ],
            "text/plain": [
              "q4_4 results: All test cases passed!"
            ]
          },
          "execution_count": 171,
          "metadata": {},
          "output_type": "execute_result"
        }
      ],
      "source": [
        "grader.check(\"q4_4\")"
      ]
    },
    {
      "cell_type": "markdown",
      "metadata": {
        "id": "OWuzpCOmcice"
      },
      "source": [
        "**Question 4.5.** What if Ciro and Athu collected their times in minutes instead of seconds? Would your hypothesis test still come to the same conclusion either way? Set `same_conclusion` to True or False."
      ]
    },
    {
      "cell_type": "code",
      "execution_count": null,
      "metadata": {
        "id": "KyPjpgU7cicf"
      },
      "outputs": [],
      "source": [
        "same_conclusion = True"
      ]
    },
    {
      "cell_type": "code",
      "execution_count": null,
      "metadata": {
        "deletable": false,
        "editable": false,
        "id": "vSrCQSJ0cicf",
        "outputId": "85b24b26-c1e8-4083-f7c3-7124246571f5"
      },
      "outputs": [
        {
          "data": {
            "text/html": [
              "<p><strong><pre style='display: inline;'>q4_5</pre></strong> passed!</p>"
            ],
            "text/plain": [
              "q4_5 results: All test cases passed!"
            ]
          },
          "execution_count": 169,
          "metadata": {},
          "output_type": "execute_result"
        }
      ],
      "source": [
        "grader.check(\"q4_5\")"
      ]
    },
    {
      "cell_type": "markdown",
      "metadata": {
        "id": "MRu0LT2Qcicf"
      },
      "source": [
        "## Finish Line: Almost there, but make sure to follow the steps below to submit! 🏁\n",
        "\n",
        "**_Citations:_** Did you use any generative artificial intelligence tools to assist you on this assignment? If so, please state, for each tool you used, the name of the tool (ex. ChatGPT) and the problem(s) in this assignment where you used the tool for help."
      ]
    },
    {
      "cell_type": "markdown",
      "metadata": {
        "id": "2VPBCCTWcicg"
      },
      "source": [
        "<hr style=\"color:Maroon;background-color:Maroon;border:0 none; height: 3px;\">\n",
        "\n",
        "Please cite tools here.\n",
        "\n",
        "<hr style=\"color:Maroon;background-color:Maroon;border:0 none; height: 3px;\">"
      ]
    },
    {
      "cell_type": "markdown",
      "metadata": {
        "id": "Z-X1UlS_cicg"
      },
      "source": [
        "Congratulations! You are done with Homework 6 – the final homework of the quarter! 🎉\n",
        "\n",
        "To submit your assignment:\n",
        "\n",
        "1. Select `Kernel -> Restart & Run All` to ensure that you have executed all cells, including the test cells.\n",
        "1. Read through the notebook to make sure everything is fine and all tests passed.\n",
        "1. Run the cell below to run all tests, and make sure that they all pass.\n",
        "1. Download your notebook using `File -> Download as -> Notebook (.ipynb)`, then upload your notebook to Gradescope.\n",
        "1. Stick around while the Gradescope autograder grades your work. Make sure you see that all tests have passed on Gradescope.\n",
        "1. Check that you have a confirmation email from Gradescope and save it as proof of your submission."
      ]
    },
    {
      "cell_type": "code",
      "execution_count": null,
      "metadata": {
        "id": "z8perfF_cicg"
      },
      "outputs": [],
      "source": [
        "grader.check_all()"
      ]
    }
  ],
  "metadata": {
    "kernelspec": {
      "display_name": "Python 3 (ipykernel)",
      "language": "python",
      "name": "python3"
    },
    "language_info": {
      "codemirror_mode": {
        "name": "ipython",
        "version": 3
      },
      "file_extension": ".py",
      "mimetype": "text/x-python",
      "name": "python",
      "nbconvert_exporter": "python",
      "pygments_lexer": "ipython3",
      "version": "3.9.5"
    },
    "colab": {
      "provenance": []
    }
  },
  "nbformat": 4,
  "nbformat_minor": 0
}